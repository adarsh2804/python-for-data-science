{
 "cells": [
  {
   "attachments": {},
   "cell_type": "markdown",
   "metadata": {},
   "source": [
    "*Note: In Python **else if** is written as **elif** *"
   ]
  },
  {
   "attachments": {},
   "cell_type": "markdown",
   "metadata": {},
   "source": [
    "### Introducing elif:"
   ]
  },
  {
   "cell_type": "code",
   "execution_count": 2,
   "metadata": {},
   "outputs": [
    {
     "name": "stdout",
     "output_type": "stream",
     "text": [
      "Not A\n"
     ]
    }
   ],
   "source": [
    "marks = 60\n",
    "\n",
    "if marks > 80:\n",
    "    print(\"A\")\n",
    "else:\n",
    "    print(\"Not A\")"
   ]
  },
  {
   "cell_type": "code",
   "execution_count": 1,
   "metadata": {},
   "outputs": [
    {
     "name": "stdout",
     "output_type": "stream",
     "text": [
      "B\n"
     ]
    }
   ],
   "source": [
    "marks = 60\n",
    "\n",
    "if marks >= 80:\n",
    "    print(\"A\")\n",
    "elif marks >= 60:\n",
    "    print(\"B\")\n",
    "elif marks >= 40:\n",
    "    print(\"C\")\n",
    "else:\n",
    "    print(\"F\")"
   ]
  },
  {
   "cell_type": "code",
   "execution_count": null,
   "metadata": {},
   "outputs": [],
   "source": [
    "# if we are using elif then only the block of statements of the true condition will be executed and output will be printed"
   ]
  },
  {
   "cell_type": "code",
   "execution_count": 3,
   "metadata": {},
   "outputs": [
    {
     "name": "stdout",
     "output_type": "stream",
     "text": [
      "B\n",
      "C\n"
     ]
    }
   ],
   "source": [
    "marks = 60\n",
    "\n",
    "if marks >= 80:\n",
    "    print(\"A\")\n",
    "if marks >= 60:\n",
    "    print(\"B\")\n",
    "if marks >= 40:\n",
    "    print(\"C\")\n",
    "if marks < 40:\n",
    "    print(\"F\")"
   ]
  },
  {
   "cell_type": "code",
   "execution_count": null,
   "metadata": {},
   "outputs": [],
   "source": [
    "# if we are using multiple ifs then all the if statements will be executed and the output will be printed if the statement is true"
   ]
  },
  {
   "cell_type": "code",
   "execution_count": null,
   "metadata": {},
   "outputs": [],
   "source": [
    "number = int(input(\"Enter a number: \"))\n",
    "\n",
    "if number > 0:\n",
    "    print(\"Positive\")\n",
    "elif number < 0:\n",
    "    print(\"Negative\")\n",
    "else:\n",
    "    print(\"Zero\")"
   ]
  },
  {
   "cell_type": "markdown",
   "metadata": {},
   "source": [
    "#### Exercise:\n",
    "\n",
    "**Recall the problem:**\n",
    "\n",
    "For a certain academic subject the students are evaluated based on five tests -\n",
    "\n",
    "* Quiz 1 (20 marks - 10% Weight),\n",
    "* Quiz 2 (20 marks - 10% Weight),\n",
    "* Class test (50 marks - 25% Weight),\n",
    "* Assignment (100 marks - 25% weight) and\n",
    "* Project (200 marks - 30% weight).\n",
    "\n",
    "Design a program that will prompt the user for marks for each of the tests and calculate the overall marks (out of 100).\n"
   ]
  },
  {
   "cell_type": "markdown",
   "metadata": {},
   "source": [
    "#### Add an extension to the problem to display grades:\n",
    "\n",
    "Display the grades of students using the following table:\n",
    "\n",
    "    Score\t\tGrade\n",
    "\t>= 60\t\tFirst Class\n",
    "\t>= 40\t\tSecond Class\n",
    "\t< 40\t\tFail\n"
   ]
  },
  {
   "cell_type": "code",
   "execution_count": 20,
   "metadata": {},
   "outputs": [
    {
     "name": "stdout",
     "output_type": "stream",
     "text": [
      "Enter marks of quiz 1 out of 20 : 15\n",
      "Enter marks of quiz 2 out of 20 : 8\n",
      "Enter marks of class test out of 50 : 34\n",
      "Enter marks of assignment out of 100 : 45\n",
      "Enter marks of project out of 200 : 142\n",
      "First Class\n"
     ]
    }
   ],
   "source": [
    "test_1 = int(input(\"Enter marks of quiz 1 out of 20 : \"))        # takes input as int value from user\n",
    "test_2 = int(input(\"Enter marks of quiz 2 out of 20 : \"))\n",
    "test_3 = int(input(\"Enter marks of class test out of 50 : \"))\n",
    "test_4 = int(input(\"Enter marks of assignment out of 100 : \"))\n",
    "test_5 = int(input(\"Enter marks of project out of 200 : \"))\n",
    "\n",
    "weighted_score_1 = test_1/2                                      # calculating weighted score of test_1\n",
    "weighted_score_2 = test_2/2\n",
    "weighted_score_3 = test_3/2\n",
    "weighted_score_4 = test_4/4\n",
    "weighted_score_5 = test_5*3/20\n",
    "\n",
    "score = weighted_score_1 + weighted_score_2 + weighted_score_3 + weighted_score_4 + weighted_score_5 # score out of 100\n",
    "\n",
    "if score >= 60:\n",
    "    print(\"First Class\")\n",
    "elif score >= 40:\n",
    "    print(\"Second Class\")\n",
    "else:\n",
    "    print(\"Fail\")"
   ]
  },
  {
   "cell_type": "markdown",
   "metadata": {},
   "source": [
    "#### Exercise:\n",
    "\n",
    "**Recall the problem:**\n",
    "\n",
    "How about prompting the user for the number of hours and using the input value to compute the total pay?"
   ]
  },
  {
   "cell_type": "markdown",
   "metadata": {},
   "source": [
    "**Include a modification**\n",
    "\n",
    "Write a program to prompt the user for hours and rate per hour to compute the gross pay. The pay computation should be such that the employees should get 1.5 times the hourly rate for hours worked above 40 hours."
   ]
  },
  {
   "cell_type": "code",
   "execution_count": 11,
   "metadata": {},
   "outputs": [
    {
     "name": "stdout",
     "output_type": "stream",
     "text": [
      "Enter the number of hours : 50\n",
      "Enter the rate per hour : 10\n",
      "550.0\n"
     ]
    }
   ],
   "source": [
    "hrs = int(input(\"Enter the number of hours : \"))\n",
    "rate = float(input(\"Enter the rate per hour : \"))\n",
    "\n",
    "if hrs <= 40:\n",
    "    total_pay = hrs * rate\n",
    "else:\n",
    "    basic_pay = 40 * rate\n",
    "    bonus = (hrs - 40)*1.5*rate              # 1.5 times hourly rate for more than 40 hrs\n",
    "    total_pay = basic_pay + bonus\n",
    "\n",
    "print(total_pay)"
   ]
  },
  {
   "cell_type": "code",
   "execution_count": null,
   "metadata": {},
   "outputs": [],
   "source": []
  },
  {
   "cell_type": "markdown",
   "metadata": {},
   "source": [
    "### C. Exception Handling:"
   ]
  },
  {
   "cell_type": "markdown",
   "metadata": {},
   "source": [
    "**try & except**"
   ]
  },
  {
   "cell_type": "markdown",
   "metadata": {},
   "source": [
    "Rewrite the pay program (refer problem 2) using try and expect so that the program handles non-numeric input gracefully by printing a message and exiting the program. The following shows two executions of the program:\n",
    "\n",
    "\tEnter hours: 20\n",
    "\tEnter rate:  nine\n",
    "\tError, please enter numeric input"
   ]
  },
  {
   "cell_type": "code",
   "execution_count": 14,
   "metadata": {},
   "outputs": [
    {
     "name": "stdout",
     "output_type": "stream",
     "text": [
      "Enter the number of hours : adsijf-gsjgd\n",
      "Input should be number\n"
     ]
    }
   ],
   "source": [
    "try:\n",
    "    hrs = int(input(\"Enter the number of hours : \"))\n",
    "\n",
    "    if hrs <= 40:\n",
    "        total_pay = hrs * 12\n",
    "    else:\n",
    "        basic_pay = 40 * 12\n",
    "        bonus = (hrs - 40)*1.5*12\n",
    "        total_pay = basic_pay + bonus\n",
    "\n",
    "    print(total_pay)\n",
    "    \n",
    "except:\n",
    "    print(\"Input should be number\")"
   ]
  },
  {
   "cell_type": "markdown",
   "metadata": {},
   "source": [
    "### D. For Loop"
   ]
  },
  {
   "cell_type": "markdown",
   "metadata": {},
   "source": [
    "**Consider the following list of number**\n",
    "    \n",
    "    L = [12,18,11,15,9,7,16]"
   ]
  },
  {
   "cell_type": "code",
   "execution_count": 15,
   "metadata": {},
   "outputs": [],
   "source": [
    "L = [12,18,11,15,9,7,16]"
   ]
  },
  {
   "cell_type": "code",
   "execution_count": 19,
   "metadata": {},
   "outputs": [
    {
     "name": "stdout",
     "output_type": "stream",
     "text": [
      "12\n",
      "18\n",
      "11\n",
      "15\n",
      "9\n",
      "7\n",
      "16\n"
     ]
    }
   ],
   "source": [
    "for i in L:\n",
    "    print (i)"
   ]
  },
  {
   "cell_type": "code",
   "execution_count": 63,
   "metadata": {},
   "outputs": [
    {
     "name": "stdout",
     "output_type": "stream",
     "text": [
      "12\n",
      "18\n",
      "11\n",
      "15\n",
      "9\n",
      "7\n",
      "16\n"
     ]
    }
   ],
   "source": [
    "# Using while loop\n",
    "\n",
    "i = 0\n",
    "\n",
    "while i < len(L):            # it will run till last index of list\n",
    "    print(L[i])\n",
    "    i = i + 1"
   ]
  },
  {
   "cell_type": "code",
   "execution_count": 24,
   "metadata": {},
   "outputs": [
    {
     "data": {
      "text/plain": [
       "12"
      ]
     },
     "execution_count": 24,
     "metadata": {},
     "output_type": "execute_result"
    }
   ],
   "source": [
    "L[0]"
   ]
  },
  {
   "cell_type": "code",
   "execution_count": 25,
   "metadata": {},
   "outputs": [
    {
     "name": "stdout",
     "output_type": "stream",
     "text": [
      "12\n",
      "[18, 11, 15, 9, 7, 16]\n"
     ]
    }
   ],
   "source": [
    "first = L[0]\n",
    "rest = L[1:]\n",
    "\n",
    "print(first)\n",
    "print(rest)"
   ]
  },
  {
   "cell_type": "code",
   "execution_count": 27,
   "metadata": {},
   "outputs": [
    {
     "name": "stdout",
     "output_type": "stream",
     "text": [
      "30\n",
      "41\n",
      "56\n",
      "65\n",
      "72\n",
      "88\n",
      "88\n"
     ]
    }
   ],
   "source": [
    "first = L[0]\n",
    "\n",
    "for num in rest:\n",
    "    first = first + num          # first will be updated with the sum of numbers in each iteration\n",
    "    print(first)\n",
    "\n",
    "print(first)"
   ]
  },
  {
   "cell_type": "code",
   "execution_count": null,
   "metadata": {},
   "outputs": [],
   "source": []
  },
  {
   "cell_type": "markdown",
   "metadata": {},
   "source": [
    "**1. Calculating the sum of numbers in a list.**"
   ]
  },
  {
   "cell_type": "code",
   "execution_count": 21,
   "metadata": {},
   "outputs": [
    {
     "name": "stdout",
     "output_type": "stream",
     "text": [
      "88\n"
     ]
    }
   ],
   "source": [
    "total = 0\n",
    "\n",
    "for num in L:\n",
    "    total = total + num          # total gets updated with the sum of element in each iteration\n",
    "    \n",
    "print(total)"
   ]
  },
  {
   "cell_type": "code",
   "execution_count": 66,
   "metadata": {},
   "outputs": [
    {
     "name": "stdout",
     "output_type": "stream",
     "text": [
      "88\n"
     ]
    }
   ],
   "source": [
    "# Using while loop\n",
    "\n",
    "i = 0\n",
    "total = 0\n",
    "\n",
    "while i < len(L):\n",
    "    total = total + L[i]\n",
    "    i = i + 1\n",
    "    \n",
    "print(total)"
   ]
  },
  {
   "cell_type": "code",
   "execution_count": 30,
   "metadata": {},
   "outputs": [
    {
     "data": {
      "text/plain": [
       "88"
      ]
     },
     "execution_count": 30,
     "metadata": {},
     "output_type": "execute_result"
    }
   ],
   "source": [
    "sum(L)"
   ]
  },
  {
   "cell_type": "markdown",
   "metadata": {},
   "source": [
    "**2. Counting the number of elements present in a list.**"
   ]
  },
  {
   "cell_type": "code",
   "execution_count": 29,
   "metadata": {},
   "outputs": [
    {
     "name": "stdout",
     "output_type": "stream",
     "text": [
      "7\n"
     ]
    }
   ],
   "source": [
    "count = 0\n",
    "\n",
    "for num in L:\n",
    "    count = count + 1          # total gets updated with the sum of element in each iteration\n",
    "    \n",
    "print(count)"
   ]
  },
  {
   "cell_type": "code",
   "execution_count": 67,
   "metadata": {},
   "outputs": [
    {
     "name": "stdout",
     "output_type": "stream",
     "text": [
      "7\n"
     ]
    }
   ],
   "source": [
    "# Using while loop\n",
    "\n",
    "count = 0\n",
    "\n",
    "while count < len(L):\n",
    "    count = count + 1\n",
    "    \n",
    "print(count)"
   ]
  },
  {
   "cell_type": "code",
   "execution_count": 32,
   "metadata": {},
   "outputs": [
    {
     "data": {
      "text/plain": [
       "7"
      ]
     },
     "execution_count": 32,
     "metadata": {},
     "output_type": "execute_result"
    }
   ],
   "source": [
    "len(L)"
   ]
  },
  {
   "cell_type": "markdown",
   "metadata": {},
   "source": [
    "**3. Finding the largest number in a sequence.**"
   ]
  },
  {
   "cell_type": "code",
   "execution_count": 47,
   "metadata": {},
   "outputs": [
    {
     "name": "stdout",
     "output_type": "stream",
     "text": [
      "18\n"
     ]
    }
   ],
   "source": [
    "maximum = L[0]\n",
    "\n",
    "for num in L:\n",
    "    if num > maximum:\n",
    "        maximum = num\n",
    "\n",
    "print(maximum)"
   ]
  },
  {
   "cell_type": "code",
   "execution_count": 52,
   "metadata": {},
   "outputs": [
    {
     "name": "stdout",
     "output_type": "stream",
     "text": [
      "18\n"
     ]
    }
   ],
   "source": [
    "maximum = -9999999999999999999             # taking a very small number for comparison\n",
    "\n",
    "for num in L:\n",
    "    if num > maximum:\n",
    "        maximum = num\n",
    "        \n",
    "print(maximum)"
   ]
  },
  {
   "cell_type": "code",
   "execution_count": 68,
   "metadata": {},
   "outputs": [
    {
     "name": "stdout",
     "output_type": "stream",
     "text": [
      "18\n"
     ]
    }
   ],
   "source": [
    "# using while loop\n",
    "\n",
    "maximum = L[0]\n",
    "i = 0\n",
    "\n",
    "while i < len(L):\n",
    "    if L[i] > maximum:\n",
    "        maximum = L[i]\n",
    "    i = i + 1\n",
    "    \n",
    "print(maximum)"
   ]
  },
  {
   "cell_type": "markdown",
   "metadata": {},
   "source": [
    "**4. Finding the smallest number in a sequence.**"
   ]
  },
  {
   "cell_type": "code",
   "execution_count": 50,
   "metadata": {},
   "outputs": [
    {
     "name": "stdout",
     "output_type": "stream",
     "text": [
      "7\n"
     ]
    }
   ],
   "source": [
    "minimum = L[0]\n",
    "\n",
    "for num in L:\n",
    "    if num < minimum:\n",
    "        minimum = num\n",
    "        \n",
    "print(minimum)"
   ]
  },
  {
   "cell_type": "code",
   "execution_count": 51,
   "metadata": {},
   "outputs": [
    {
     "name": "stdout",
     "output_type": "stream",
     "text": [
      "7\n"
     ]
    }
   ],
   "source": [
    "minimum = 9999999999999999999             # taking a very large number for comparison\n",
    "\n",
    "for num in L:\n",
    "    if num < minimum:\n",
    "        minimum = num\n",
    "        \n",
    "print(minimum)"
   ]
  },
  {
   "cell_type": "code",
   "execution_count": 69,
   "metadata": {},
   "outputs": [
    {
     "name": "stdout",
     "output_type": "stream",
     "text": [
      "7\n"
     ]
    }
   ],
   "source": [
    "# using while loop\n",
    "\n",
    "minimum = L[0]\n",
    "i = 0\n",
    "\n",
    "while i < len(L):\n",
    "    if L[i] < minimum:\n",
    "        minimum = L[i]\n",
    "    i = i + 1\n",
    "    \n",
    "print(minimum)"
   ]
  },
  {
   "cell_type": "markdown",
   "metadata": {},
   "source": [
    "### E. Introducing range()"
   ]
  },
  {
   "cell_type": "code",
   "execution_count": 53,
   "metadata": {},
   "outputs": [
    {
     "data": {
      "text/plain": [
       "range(0, 5)"
      ]
     },
     "execution_count": 53,
     "metadata": {},
     "output_type": "execute_result"
    }
   ],
   "source": [
    "range(0, 5) # sequence starting from 0 to 4 (5 is not included) at an interval of 1"
   ]
  },
  {
   "cell_type": "markdown",
   "metadata": {},
   "source": [
    "**1. Calculate the sum of first n integers**"
   ]
  },
  {
   "cell_type": "code",
   "execution_count": 54,
   "metadata": {},
   "outputs": [],
   "source": [
    "def sum_of_numbers(n):\n",
    "    \n",
    "    total = 0\n",
    "    \n",
    "    for i in range(1, n+1):\n",
    "        total = total + i\n",
    "        \n",
    "    return total"
   ]
  },
  {
   "cell_type": "code",
   "execution_count": 55,
   "metadata": {},
   "outputs": [
    {
     "data": {
      "text/plain": [
       "55"
      ]
     },
     "execution_count": 55,
     "metadata": {},
     "output_type": "execute_result"
    }
   ],
   "source": [
    "sum_of_numbers(10)"
   ]
  },
  {
   "cell_type": "code",
   "execution_count": 70,
   "metadata": {},
   "outputs": [],
   "source": [
    "# using while loop\n",
    "\n",
    "def add_numbers(n):\n",
    "    \n",
    "    total = 0\n",
    "    i = 1\n",
    "    \n",
    "    while i <= n:\n",
    "        total = total + i\n",
    "        i = i + 1\n",
    "        \n",
    "    return total"
   ]
  },
  {
   "cell_type": "code",
   "execution_count": 71,
   "metadata": {},
   "outputs": [
    {
     "data": {
      "text/plain": [
       "66"
      ]
     },
     "execution_count": 71,
     "metadata": {},
     "output_type": "execute_result"
    }
   ],
   "source": [
    "add_numbers(11)"
   ]
  },
  {
   "cell_type": "code",
   "execution_count": null,
   "metadata": {},
   "outputs": [],
   "source": []
  },
  {
   "cell_type": "markdown",
   "metadata": {},
   "source": [
    "**2. Calculate the mean of the first n integers.**"
   ]
  },
  {
   "cell_type": "code",
   "execution_count": 56,
   "metadata": {},
   "outputs": [],
   "source": [
    "def mean_of_numbers(n):                  # taking number of first n integers as argument\n",
    "    \n",
    "    total = 0\n",
    "    count = 0\n",
    "    \n",
    "    for i in range(1, n+1):\n",
    "        total = total + i                # sum of n integers\n",
    "        count = count + 1                # number of integers\n",
    "        \n",
    "    return total/count"
   ]
  },
  {
   "cell_type": "code",
   "execution_count": 57,
   "metadata": {},
   "outputs": [
    {
     "data": {
      "text/plain": [
       "6.0"
      ]
     },
     "execution_count": 57,
     "metadata": {},
     "output_type": "execute_result"
    }
   ],
   "source": [
    "mean_of_numbers(11)"
   ]
  },
  {
   "cell_type": "code",
   "execution_count": 88,
   "metadata": {},
   "outputs": [],
   "source": [
    "# using while loop\n",
    "\n",
    "def avg_of_numbers(n):\n",
    "    \n",
    "    total = 0\n",
    "    i = 1\n",
    "    \n",
    "    while i <= n:\n",
    "        total = total + i\n",
    "        i = i + 1\n",
    "        \n",
    "    return total/(i-1)"
   ]
  },
  {
   "cell_type": "code",
   "execution_count": 89,
   "metadata": {},
   "outputs": [
    {
     "data": {
      "text/plain": [
       "6.5"
      ]
     },
     "execution_count": 89,
     "metadata": {},
     "output_type": "execute_result"
    }
   ],
   "source": [
    "avg_of_numbers(12)"
   ]
  },
  {
   "cell_type": "markdown",
   "metadata": {},
   "source": [
    "**3. Calculate the standard deviation of the first n integers**"
   ]
  },
  {
   "cell_type": "code",
   "execution_count": 60,
   "metadata": {},
   "outputs": [],
   "source": [
    "def stddev_of_numbers(n):                # taking number of first n integers as argument\n",
    "    \n",
    "    total = 0\n",
    "    count = 0\n",
    "    sum_squared_diff = 0\n",
    "    \n",
    "    for i in range(1, n+1):              # this loop is for calculating sum and number of elements\n",
    "        total = total + i\n",
    "        count = count + 1\n",
    "        \n",
    "    avg = total/count\n",
    "    \n",
    "    for value in range(1, n+1):\n",
    "        squared_diff = (value - avg)**2                       # square of difference of value and mean\n",
    "        sum_squared_diff = squared_diff + sum_squared_diff    # summation of square of difference calculated in previous step\n",
    "    \n",
    "    stddev = ((sum_squared_diff)/(value - 1))**(1/2)          # formula of standard deviation for sample\n",
    "    \n",
    "    return stddev"
   ]
  },
  {
   "cell_type": "code",
   "execution_count": 61,
   "metadata": {},
   "outputs": [
    {
     "data": {
      "text/plain": [
       "3.0276503540974917"
      ]
     },
     "execution_count": 61,
     "metadata": {},
     "output_type": "execute_result"
    }
   ],
   "source": [
    "stddev_of_numbers(10)"
   ]
  }
 ],
 "metadata": {
  "kernelspec": {
   "display_name": "Python 3",
   "language": "python",
   "name": "python3"
  },
  "language_info": {
   "codemirror_mode": {
    "name": "ipython",
    "version": 3
   },
   "file_extension": ".py",
   "mimetype": "text/x-python",
   "name": "python",
   "nbconvert_exporter": "python",
   "pygments_lexer": "ipython3",
   "version": "3.8.5"
  }
 },
 "nbformat": 4,
 "nbformat_minor": 2
}
