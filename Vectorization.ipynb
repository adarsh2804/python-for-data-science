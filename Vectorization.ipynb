{
 "cells": [
  {
   "cell_type": "markdown",
   "metadata": {},
   "source": [
    "### Vectorised Operations"
   ]
  },
  {
   "cell_type": "code",
   "execution_count": 1,
   "metadata": {},
   "outputs": [],
   "source": [
    "#Required Libraries\n",
    "import numpy as np\n",
    "import time"
   ]
  },
  {
   "cell_type": "code",
   "execution_count": 2,
   "metadata": {},
   "outputs": [],
   "source": [
    "#Let's create two arrays (consisting of some random numbers between 0 and 1)\n",
    "a = np.random.rand(100000)\n",
    "b = np.random.rand(100000)"
   ]
  },
  {
   "cell_type": "code",
   "execution_count": null,
   "metadata": {},
   "outputs": [],
   "source": [
    "#Printing the first 10 values of the arrays\n",
    "print(a[:10])\n",
    "print(b[:10])"
   ]
  },
  {
   "cell_type": "markdown",
   "metadata": {},
   "source": [
    "#### Calculating the sum of all the numbers in the array"
   ]
  },
  {
   "cell_type": "code",
   "execution_count": 17,
   "metadata": {
    "scrolled": true
   },
   "outputs": [
    {
     "name": "stdout",
     "output_type": "stream",
     "text": [
      "Using for loop: 24.964094161987305ms\n",
      "49926.22583449347\n"
     ]
    }
   ],
   "source": [
    "#Finding the sum of all the elements of the array a\n",
    "\n",
    "start = time.time()\n",
    "\n",
    "total = 0\n",
    "for i in a:\n",
    "    total = total + i\n",
    "    \n",
    "stop = time.time()\n",
    "\n",
    "\n",
    "print(\"Using for loop: \" +str(1000*(stop-start)) + \"ms\")\n",
    "print(total)"
   ]
  },
  {
   "cell_type": "code",
   "execution_count": 7,
   "metadata": {},
   "outputs": [
    {
     "data": {
      "text/plain": [
       "array([1., 1., 1., 1., 1., 1., 1., 1., 1., 1., 1., 1., 1., 1., 1., 1., 1.,\n",
       "       1., 1., 1.])"
      ]
     },
     "execution_count": 7,
     "metadata": {},
     "output_type": "execute_result"
    }
   ],
   "source": [
    "#sum vector\n",
    "one = np.ones(100000)\n",
    "one[:20]"
   ]
  },
  {
   "cell_type": "code",
   "execution_count": 9,
   "metadata": {
    "scrolled": true
   },
   "outputs": [
    {
     "name": "stdout",
     "output_type": "stream",
     "text": [
      "Vectorized version: 0.9987354278564453ms\n",
      "49926.225834493016\n"
     ]
    }
   ],
   "source": [
    "#Using vectorised operations\n",
    "\n",
    "start = time.time()\n",
    "\n",
    "total = one.dot(a)\n",
    "\n",
    "stop = time.time()\n",
    "\n",
    "\n",
    "print(\"Vectorized version: \" +str(1000*(stop-start)) + \"ms\")\n",
    "print(total)"
   ]
  },
  {
   "cell_type": "code",
   "execution_count": 10,
   "metadata": {},
   "outputs": [
    {
     "name": "stdout",
     "output_type": "stream",
     "text": [
      "Vectorized version: 0.9984970092773438ms\n",
      "49926.225834493016\n"
     ]
    }
   ],
   "source": [
    "#Using inbuilt python function\n",
    "\n",
    "start = time.time()\n",
    "\n",
    "np.sum(a)\n",
    "\n",
    "stop = time.time()\n",
    "\n",
    "\n",
    "print(\"Vectorized version: \" +str(1000*(stop-start)) + \"ms\")\n",
    "print(total)"
   ]
  },
  {
   "cell_type": "code",
   "execution_count": 19,
   "metadata": {},
   "outputs": [
    {
     "name": "stdout",
     "output_type": "stream",
     "text": [
      "Non-vectorized version: 15.659332275390625ms\n",
      "49926.22583449347\n"
     ]
    }
   ],
   "source": [
    "#Using inbuilt python function\n",
    "\n",
    "start = time.time()\n",
    "\n",
    "sum(a)\n",
    "\n",
    "stop = time.time()\n",
    "\n",
    "\n",
    "print(\"Non-vectorized version: \" +str(1000*(stop-start)) + \"ms\")\n",
    "print(total)"
   ]
  },
  {
   "cell_type": "markdown",
   "metadata": {
    "collapsed": true
   },
   "source": [
    "#### Calculating the sum-product of the arrays a and b"
   ]
  },
  {
   "cell_type": "code",
   "execution_count": 20,
   "metadata": {},
   "outputs": [
    {
     "name": "stdout",
     "output_type": "stream",
     "text": [
      "Using for loop: 60.18495559692383ms\n",
      "24971.371268985138\n"
     ]
    }
   ],
   "source": [
    "#Using for loop\n",
    "\n",
    "start = time.time()\n",
    "\n",
    "total = 0\n",
    "for i in range(0,len(a)):\n",
    "    total = total + a[i]*b[i]\n",
    "\n",
    "stop = time.time()\n",
    "\n",
    "print(\"Using for loop: \" +str(1000*(stop-start)) + \"ms\")\n",
    "print(total)"
   ]
  },
  {
   "cell_type": "code",
   "execution_count": 23,
   "metadata": {},
   "outputs": [
    {
     "name": "stdout",
     "output_type": "stream",
     "text": [
      "Vectorised Operation: 0.0ms\n",
      "24971.371268985356\n"
     ]
    }
   ],
   "source": [
    "#Using vectorised Operation\n",
    "\n",
    "start = time.time()\n",
    "\n",
    "total = np.matmul(np.transpose(b), a)\n",
    "\n",
    "stop = time.time()\n",
    "\n",
    "print(\"Vectorised Operation: \" +str(1000*(stop-start)) + \"ms\")\n",
    "print(total)"
   ]
  },
  {
   "cell_type": "code",
   "execution_count": 22,
   "metadata": {},
   "outputs": [
    {
     "name": "stdout",
     "output_type": "stream",
     "text": [
      "Vectorised Operation: 0.9944438934326172ms\n",
      "24971.371268985356\n"
     ]
    }
   ],
   "source": [
    "#Using Python built in function\n",
    "\n",
    "start = time.time()\n",
    "\n",
    "total = np.dot(a,b)\n",
    "\n",
    "stop = time.time()\n",
    "\n",
    "print(\"Vectorised Operation: \" +str(1000*(stop-start)) + \"ms\")\n",
    "print(total)"
   ]
  },
  {
   "cell_type": "code",
   "execution_count": null,
   "metadata": {},
   "outputs": [],
   "source": []
  }
 ],
 "metadata": {
  "kernelspec": {
   "display_name": "Python 3",
   "language": "python",
   "name": "python3"
  },
  "language_info": {
   "codemirror_mode": {
    "name": "ipython",
    "version": 3
   },
   "file_extension": ".py",
   "mimetype": "text/x-python",
   "name": "python",
   "nbconvert_exporter": "python",
   "pygments_lexer": "ipython3",
   "version": "3.8.5"
  }
 },
 "nbformat": 4,
 "nbformat_minor": 2
}
