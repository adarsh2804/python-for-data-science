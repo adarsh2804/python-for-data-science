{
 "cells": [
  {
   "cell_type": "markdown",
   "metadata": {},
   "source": [
    "### Problem-1:\n",
    "**Ramesh’s basic salary is input through the keyboard. His dearness allowance is 40% of basic salary, and house rent allowance is 20% of basic salary. Write a program to calculate his gross salary.**"
   ]
  },
  {
   "cell_type": "code",
   "execution_count": null,
   "metadata": {
    "scrolled": true
   },
   "outputs": [],
   "source": [
    "try:\n",
    "    basic_salary = float(input(\"Enter the basic salary : \"))     # input is taken as float type\n",
    "    \n",
    "    if basic_salary < 0:                                         # checks if salary is negative number\n",
    "        print(\"Salary cannot be negative\")\n",
    "    else:\n",
    "        dearness_allowance = (basic_salary * 40) / 100\n",
    "        house_rent_allowance = (basic_salary * 20) / 100\n",
    "        gross_salary = basic_salary + dearness_allowance + house_rent_allowance\n",
    "\n",
    "        print(\"Gross Salary =\", gross_salary)\n",
    "                                                                               \n",
    "except ValueError:\n",
    "    print(\"Basic salary should be numeric\")                      # exception will be raised if user enter non-numeric data"
   ]
  },
  {
   "cell_type": "markdown",
   "metadata": {},
   "source": [
    "### Problem-2:\n",
    "**The distance between two cities (in km.) is input through the keyboard. Write a program to convert and print this distance in meters, feet, inches and centimeters.**"
   ]
  },
  {
   "cell_type": "code",
   "execution_count": null,
   "metadata": {},
   "outputs": [],
   "source": [
    "# Solution-2\n",
    "\n",
    "try:\n",
    "    distance_in_km = float(input(\"Enter the distance between two cities in km : \"))  # input is taken as float type\n",
    "    \n",
    "    if distance_in_km < 0:                                      # checks if distance is negative            \n",
    "        print(\"Distance cannot be negative\")\n",
    "    else:\n",
    "        distance_in_mtrs = distance_in_km * 1000                # calculating distance in meters\n",
    "        distance_in_cm = distance_in_mtrs * 100                 # calculating distance in centimeters\n",
    "        distance_in_feet = distance_in_km * 3280.84             # calculating distance in feet\n",
    "        distance_in_inch = distance_in_feet * 12                # calculating distance in inches\n",
    "\n",
    "        print(\"Distance in meters =\", distance_in_mtrs)         # distance are printed in respective units\n",
    "        print(\"Distance in feet =\", distance_in_feet)\n",
    "        print(\"Distance in inches =\", distance_in_inch)\n",
    "        print(\"Distance in centimeters =\", distance_in_cm)\n",
    "    \n",
    "except ValueError:\n",
    "    print(\"Distance should be numeric\")                         # exception will be raised for non-numeric input"
   ]
  },
  {
   "cell_type": "markdown",
   "metadata": {},
   "source": [
    "### Problem-3:\n",
    "**If the marks obtained by a student in five different subjects are input through the keyboard, find out the aggregate marks and percentage marks obtained by the student. Assume that the maximum marks that can be obtained by a student in each subject is 100.**"
   ]
  },
  {
   "cell_type": "code",
   "execution_count": null,
   "metadata": {},
   "outputs": [],
   "source": [
    "# Solution-3\n",
    "\n",
    "try:\n",
    "    marks_1 = int(input(\"Enter marks of subject 1 out of 100 : \"))        # input is taken as integer type\n",
    "    marks_2 = int(input(\"Enter marks of subject 2 out of 100 : \"))\n",
    "    marks_3 = int(input(\"Enter marks of subject 3 out of 100 : \"))\n",
    "    marks_4 = int(input(\"Enter marks of subject 4 out of 100 : \"))\n",
    "    marks_5 = int(input(\"Enter marks of subject 5 out of 100 : \"))\n",
    "\n",
    "    aggregate_marks = marks_1 + marks_2 + marks_3 + marks_4 + marks_5     # gives total of all the marks scored\n",
    "    percentage_marks = (aggregate_marks * 100) / 500                      # gives percentage of total marks\n",
    "\n",
    "    print(\"Aggregate Marks =\", aggregate_marks)\n",
    "    print(\"Percentage Marks =\", percentage_marks)\n",
    "    \n",
    "except ValueError:\n",
    "    print(\"Marks should be numeric\")                                      # exception will be raised for non-numeric input"
   ]
  },
  {
   "cell_type": "markdown",
   "metadata": {},
   "source": [
    "### Problem-4:\n",
    "**Temperature of a city in Fahrenheit degrees is input through the keyboard. Write a program to convert this temperature into Centigrade degrees.**"
   ]
  },
  {
   "cell_type": "code",
   "execution_count": null,
   "metadata": {},
   "outputs": [],
   "source": [
    "# Solution-4\n",
    "\n",
    "try:\n",
    "    fahrenheit_temp = float(input(\"Enter the city temperature in Fahrenheit : \"))  # input is taken as float type\n",
    "\n",
    "    centigrade_temp = (fahrenheit_temp - 32) * (5/9)                      # Fahrenheit to celsius conversion formula\n",
    "\n",
    "    print(\"City temperature in Centigrade =\", centigrade_temp)\n",
    "    \n",
    "except ValueError:\n",
    "    print(\"Temperature should be numeric\")                                # exception will be raised for non-numeric value"
   ]
  },
  {
   "cell_type": "markdown",
   "metadata": {},
   "source": [
    "### Problem-5:\n",
    "**The length & breadth of a rectangle and radius of a circle are input through the keyboard. Write a program to calculate the area & perimeter of the rectangle, and the area & circumference of the circle.**"
   ]
  },
  {
   "cell_type": "code",
   "execution_count": null,
   "metadata": {},
   "outputs": [],
   "source": [
    "# Solution-5\n",
    "\n",
    "try:\n",
    "    length = float(input(\"Enter the length of the rectangle : \"))         # input is taken as float type\n",
    "    breadth = float(input(\"Enter the breadth of the rectangle : \"))\n",
    "    radius = float(input(\"Enter the radius of the circle : \"))\n",
    "\n",
    "    # Below is calculations for area and perimeter of rectangle, area and circumference of circle\n",
    "    \n",
    "    area_of_rectangle = length * breadth\n",
    "    perimeter_of_rectangle = 2 * (length + breadth)\n",
    "    area_of_circle = (22/7) * (radius**2)\n",
    "    circumference_of_circle = 2 * (22/7) * radius\n",
    "\n",
    "    print(\"Area of rectangle =\", area_of_rectangle)\n",
    "    print(\"Perimeter of rectangle =\", perimeter_of_rectangle)\n",
    "    print(\"Area of circle =\", area_of_circle)\n",
    "    print(\"Circumference of circle =\", circumference_of_circle)\n",
    "    \n",
    "except ValueError:\n",
    "    print(\"Length, Breadth and Radius should be numeric\")                 # exception will be raised for non-numeric value"
   ]
  },
  {
   "cell_type": "markdown",
   "metadata": {},
   "source": [
    "### Problem-6:\n",
    "**Two numbers are input through the keyboard into two locations C and D. Write a program to interchange the contents of C and D.**"
   ]
  },
  {
   "cell_type": "code",
   "execution_count": null,
   "metadata": {},
   "outputs": [],
   "source": [
    "# Solution-6\n",
    "\n",
    "try:\n",
    "    C = float(input('Enter number for first location : '))        # input is taken as float type    \n",
    "    D = float(input('Enter umber for second location : '))\n",
    "\n",
    "    # Swapping of numbers using third variable\n",
    "    temp = C\n",
    "    C = D\n",
    "    D = temp                                                      # values at both location will be interchanged\n",
    "\n",
    "    print(\"Number at first location =\")\n",
    "    print(C)\n",
    "    print(\"Number at second location =\")\n",
    "    print(D)\n",
    "    \n",
    "except ValueError:\n",
    "    print(\"Please enter numeric values\")                          # exception will be raised for non-numeric value"
   ]
  },
  {
   "cell_type": "markdown",
   "metadata": {},
   "source": [
    "### Problem-7:\n",
    "**If a five-digit number is input through the keyboard, write a program to reverse the number.**"
   ]
  },
  {
   "cell_type": "code",
   "execution_count": null,
   "metadata": {},
   "outputs": [],
   "source": [
    "# Solution-7\n",
    "\n",
    "try:\n",
    "    num = int(input(\"Enter a five digit number : \"))\n",
    "    \n",
    "    if num < 10000:                                              # if and elif checking whether the number is of 5 digits\n",
    "        print(\"Enter only 5 digit number\")\n",
    "    elif num > 99999:\n",
    "        print(\"Enter only 5 digit number\")\n",
    "    else:\n",
    "        reverse_num = (((num // 10**0) % 10) * 10**4) + (((num // 10**1) % 10) * 10**3) + (((num // 10**2) % 10) * 10**2) + (((num // 10**3) % 10) * 10**1) + (((num // 10**4) % 10) * 10**0)\n",
    "        print(\"Number in reverse order =\", reverse_num)\n",
    "\n",
    "except ValueError:\n",
    "    print(\"Please enter a 5 digit number\")                       # exception will be raised for non-numeric value"
   ]
  },
  {
   "cell_type": "markdown",
   "metadata": {},
   "source": [
    "### Problem-8:\n",
    "**If a four-digit number is input through the keyboard, write a program to obtain the sum of the first and last digit of this number.**"
   ]
  },
  {
   "cell_type": "code",
   "execution_count": null,
   "metadata": {},
   "outputs": [],
   "source": [
    "# Solution-8\n",
    "\n",
    "try:\n",
    "    num = int(input(\"Enter a four digit number : \"))   # taking input as int type\n",
    "\n",
    "    if num < 1000:                                     # if and elif checking whether the number is of 4 digits\n",
    "        print(\"Enter only 4 digit number\")\n",
    "    elif num > 9999:\n",
    "        print(\"Enter only 4 digit number\")\n",
    "    else:\n",
    "        sum_of_digits = (num//1000) + (num%10)         # (num//1000) gives first digit and (num%10) gives last digit\n",
    "        print(\"Sum of first and last digit =\", sum_of_digits)\n",
    "    \n",
    "except ValueError:\n",
    "    print(\"Please enter a 4 digit number\")             # exception will be raised for non-numeric value"
   ]
  },
  {
   "cell_type": "markdown",
   "metadata": {},
   "source": [
    "### Problem-9:\n",
    "**In a town, the percentage of men is 52. The percentage of total literacy is 48. If total percentage of literate men is 35 of the total population, write a program to find the total number of illiterate men and women if the population of the town is 80,000.**"
   ]
  },
  {
   "cell_type": "code",
   "execution_count": null,
   "metadata": {},
   "outputs": [],
   "source": [
    "# Solution-9\n",
    "\n",
    "try:\n",
    "    total_population = 80000\n",
    "    total_men = (total_population * 52) / 100             # 52% of total population\n",
    "    total_women = total_population - total_men            # total women will be difference of total population and men population\n",
    "\n",
    "    total_literate = (total_population * 48) / 100        # 48% of total population\n",
    "    literate_men = (total_population * 35) / 100          # 35% of total population\n",
    "\n",
    "    illiterate_men = total_men - literate_men             # total illiterate men is difference of total men and literate men\n",
    "    illiterate_women = total_population - (total_literate + illiterate_men)  # total illiterate women is difference of total population and (sum of total literate population and total illiterate men) \n",
    "\n",
    "    print(\"Total number of illiterate men =\", illiterate_men)\n",
    "    print(\"Total number of illiterate women =\", illiterate_women)\n",
    "\n",
    "except:\n",
    "    print(\"Some error occured! Try again.\")"
   ]
  }
 ],
 "metadata": {
  "kernelspec": {
   "display_name": "Python 3",
   "language": "python",
   "name": "python3"
  },
  "language_info": {
   "codemirror_mode": {
    "name": "ipython",
    "version": 3
   },
   "file_extension": ".py",
   "mimetype": "text/x-python",
   "name": "python",
   "nbconvert_exporter": "python",
   "pygments_lexer": "ipython3",
   "version": "3.8.5"
  }
 },
 "nbformat": 4,
 "nbformat_minor": 5
}
