{
 "cells": [
  {
   "cell_type": "markdown",
   "metadata": {},
   "source": [
    "### Problem-1:\n",
    "**1.Prompt the user for a score between 0.0 and 1.0. If the score is out of range, print an error message. If the score is between 0.0 and 1.0, print a grade using the following table:**\n",
    "\n",
    "\t\n",
    "| Score | Grade |\n",
    "|---|---|\n",
    "| >= 0.9 | A |\n",
    "| >= 0.8 | B |\n",
    "| >= 0.7 | C |\n",
    "| >= 0.6 | D |\n",
    "| < 0.6 | E |"
   ]
  },
  {
   "cell_type": "code",
   "execution_count": null,
   "metadata": {},
   "outputs": [],
   "source": [
    "# Solution-1\n",
    "\n",
    "try:\n",
    "    score = float(input(\"Enter the score between 0 and 1 : \"))  # input is taken as float type\n",
    "    \n",
    "    if score < 0 or score > 1:                                  # checking whether the input is between 0 and 1\n",
    "        print(\"Out of range! Score should be between 0 and 1\")\n",
    "    elif score >= 0.9:\n",
    "        grade = 'A'\n",
    "    elif score >= 0.8:\n",
    "        grade = 'B'\n",
    "    elif score >= 0.7:                                          # conditions for grade assignment\n",
    "        grade = 'C'\n",
    "    elif score >= 0.6:\n",
    "        grade = 'D'\n",
    "    else:\n",
    "        grade = 'E'\n",
    "        \n",
    "    print(\"Grade =\", grade)\n",
    "    \n",
    "except ValueError:\n",
    "    print(\"Score should be numeric\")                            # exception will be raised if input is non-numeric\n",
    "\n",
    "except NameError:\n",
    "    print(\"Cannot calculate grade, score should be numeric\")    # Because input is out of range, grade variable will remain undefined thus raising NameError exception"
   ]
  },
  {
   "cell_type": "markdown",
   "metadata": {},
   "source": [
    "### Problem-2:\n",
    "**If cost price and selling price of an item is input through the keyboard, write a program to determine whether the seller has made profit or incurred loss. Also determine how much profit he made or loss he incurred.**"
   ]
  },
  {
   "cell_type": "code",
   "execution_count": null,
   "metadata": {},
   "outputs": [],
   "source": [
    "# Solution-2\n",
    "\n",
    "try:\n",
    "    cost_price = float(input(\"Enter the cost price : \"))        # input is taken as float type\n",
    "    selling_price = float(input(\"Enter the selling price : \"))\n",
    "    \n",
    "    if cost_price > selling_price:                              # profit will be made in this case\n",
    "        loss = cost_price - selling_price\n",
    "        print(\"Total loss incurred =\", loss)\n",
    "        \n",
    "    elif selling_price > cost_price:                            # loss will be incurred in this case\n",
    "        profit = selling_price - cost_price\n",
    "        print(\"Total profit made =\", profit)\n",
    "        \n",
    "    else:                                                       # neither profit nor loss in this case\n",
    "        print(\"No profit! No loss!\")\n",
    "        \n",
    "except ValueError:\n",
    "    print(\"Please enter numeric values\")                        # exception will be raised for non-numeric input"
   ]
  },
  {
   "cell_type": "markdown",
   "metadata": {},
   "source": [
    "### Problem-3:\n",
    "**Any year is input through the keyboard. Write a program to determine whether the year is a leap year or not.**"
   ]
  },
  {
   "cell_type": "code",
   "execution_count": null,
   "metadata": {},
   "outputs": [],
   "source": [
    "# Solution-3\n",
    "\n",
    "try:\n",
    "    year = int(input(\"Enter the year : \"))             # input is taken as int type\n",
    "    \n",
    "    if (year % 4) != 0:                                # year not divisible by 4 is not a leap year\n",
    "        print(\"This is not a leap year\")\n",
    "    else:\n",
    "        if (year % 100 == 0) and (year % 400) != 0:    # for century years, year not divisible by 400 is not a leap year                      \n",
    "            print(\"This is not a leap year\")\n",
    "        else:\n",
    "            print(\"This is a leap year\")               # Rest all are leap years\n",
    "        \n",
    "except ValueError:\n",
    "    print(\"Year should be a numeric value\")            # exception will be raised for non-numeric value"
   ]
  },
  {
   "cell_type": "markdown",
   "metadata": {},
   "source": [
    "### Problem-4:\n",
    "**A five-digit number is entered through the keyboard. Write a program to obtain the reversed number and to determine whether the original and reversed numbers are equal or not.**"
   ]
  },
  {
   "cell_type": "code",
   "execution_count": null,
   "metadata": {},
   "outputs": [],
   "source": [
    "# Solution - 4\n",
    "\n",
    "try:\n",
    "    num = int(input(\"Enter the 5 digit number : \"))    # input is taken as int type\n",
    "    \n",
    "    if num < 10000:                                    # if and elif conditions checking whether number is of 5 digits\n",
    "        print(\"Please enter 5 digit number\")\n",
    "    elif num > 99999:\n",
    "        print(\"Please enter 5 digit number\")\n",
    "    else:\n",
    "        reverse_num = (((num // 10**0) % 10) * 10**4) + (((num // 10**1) % 10) * 10**3) + (((num // 10**2) % 10) * 10**2) + (((num // 10**3) % 10) * 10**1) + (((num // 10**4) % 10) * 10**0)\n",
    "        \n",
    "        if num == reverse_num:\n",
    "            print(\"Original and reversed number are equal\")\n",
    "        else:\n",
    "            print(\"Original and reversed number are not equal\")\n",
    "        \n",
    "except ValueError:\n",
    "    print(\"Enter a numeric value\")                     # exception will be raised for non-numeric value"
   ]
  },
  {
   "cell_type": "markdown",
   "metadata": {},
   "source": [
    "### Problem-5:\n",
    "**If the ages of Ram, Shyam and Ajay are input through the keyboard, write a program to determine the youngest of the three.**"
   ]
  },
  {
   "cell_type": "code",
   "execution_count": null,
   "metadata": {},
   "outputs": [],
   "source": [
    "# Solution-5\n",
    "\n",
    "try:\n",
    "    age_of_ram = int(input(\"Enter the age of Ram : \"))             # input is taken as int type\n",
    "    age_of_shyam = int(input(\"Enter the age of Shyam : \"))\n",
    "    age_of_ajay = int(input(\"Enter the age of Ajay : \"))\n",
    "    \n",
    "    if age_of_ram < age_of_shyam and age_of_ram < age_of_ajay:\n",
    "            print(\"Ram is youngest\")                               # ram's age is less than both shyam and ajay in this condition\n",
    "    elif age_of_shyam < age_of_ajay and age_of_shyam < age_of_ram:\n",
    "            print(\"Shyam is youngest\")                             # shyam's age is less than both ram and ajay in this condition\n",
    "    elif age_of_ajay < age_of_ram and age_of_ajay < age_of_shyam:\n",
    "             print(\"Ajay is youngest\")                             # ajay's age is less than both shyam and ram in this condition\n",
    "    else:\n",
    "        print(\"All are equal in age\")                              # all will be equal in age\n",
    "\n",
    "except ValueError:\n",
    "    print(\"Age should be numeric\")                                 # exception will be raised for non-numeric value"
   ]
  },
  {
   "cell_type": "markdown",
   "metadata": {},
   "source": [
    "### Problem-6:\n",
    "**Write a program to check whether a triangle is valid or not, when the three angles of the triangle are entered through the keyboard. A triangle is valid if the sum of all the three angles is equal to 180 degrees..**"
   ]
  },
  {
   "cell_type": "code",
   "execution_count": null,
   "metadata": {},
   "outputs": [],
   "source": [
    "# Solution-6\n",
    "\n",
    "try:\n",
    "    angle_1 = float(input(\"Enter the first angle of triangle : \"))    # input is taken as int type\n",
    "    angle_2 = float(input(\"Enter the second angle of triangle : \"))\n",
    "    angle_3 = float(input(\"Enter the third angle of triangle : \"))\n",
    "    \n",
    "    sum_of_angles = angle_1 + angle_2 + angle_3\n",
    "    \n",
    "    if sum_of_angles == 180:\n",
    "        print(\"Triangle is valid\")                                    # For triangle to be valid, sum of its 3 angles should be 180 degrees\n",
    "    else:\n",
    "        print(\"Triangle is invalid\")                                  # otherwise invalid\n",
    "        \n",
    "except ValueError:\n",
    "    print(\"Angles should be numeric\")                                 # exception will be raised for non-numeric values"
   ]
  },
  {
   "cell_type": "markdown",
   "metadata": {},
   "source": [
    "### Problem-7:\n",
    "**Find the absolute value of a number entered through the keyboard.**"
   ]
  },
  {
   "cell_type": "code",
   "execution_count": null,
   "metadata": {},
   "outputs": [],
   "source": [
    "# Solution-7\n",
    "\n",
    "try:\n",
    "    num = float(input(\"Enter the number : \"))           # input is taken as float type\n",
    "    if num >= 0:\n",
    "        print(\"Absolute value of the number =\")\n",
    "        print(num)                                      # for positive number and zero, absolute value is the number itself\n",
    "    else:\n",
    "        print(\"Absolute value of the number =\")\n",
    "        print(-1 * num)                                 # for negative number, absolute value is magnitude of number without minus sign\n",
    "        \n",
    "except ValueError:\n",
    "    print(\"Enter a numeric value\")                      # exception will be raised for non-numeric values"
   ]
  },
  {
   "cell_type": "markdown",
   "metadata": {},
   "source": [
    "### Problem-8:\n",
    "**Given three points (x1, y1), (x2, y2) and (x3, y3), write a program to check if all the three points fall on one straight line.**"
   ]
  },
  {
   "cell_type": "code",
   "execution_count": null,
   "metadata": {},
   "outputs": [],
   "source": [
    "# Solution-8\n",
    "\n",
    "try:\n",
    "    x1 = float(input(\"Enter x coordinate of point 1 : \"))         # taking input as float type\n",
    "    y1 = float(input(\"Enter y coordinate of point 1 : \"))\n",
    "    x2 = float(input(\"Enter x coordinate of point 2 : \"))\n",
    "    y2 = float(input(\"Enter y coordinate of point 2 : \"))\n",
    "    x3 = float(input(\"Enter x coordinate of point 3 : \"))\n",
    "    y3 = float(input(\"Enter y coordinate of point 3 : \"))\n",
    "    \n",
    "    if ((y3-y2)/(x3-x2)) == ((y2-y1)/(x2-x1)):                    # For three points to be collinear, slope of one pair of points should be equal to the slope of other pair\n",
    "        print(\"All three points lie on one straight line\")\n",
    "    else:\n",
    "        print(\"All three points do not lie on one straight line\")\n",
    "        \n",
    "except ValueError:\n",
    "    print(\"Points should be numeric\")                             # exception will be raised for non-numeric value"
   ]
  },
  {
   "cell_type": "markdown",
   "metadata": {},
   "source": [
    "### Problem-9:\n",
    "**Given a point (x, y), write a program to find out if it lies on the x-axis, y-axis or at the origin, viz. (0, 0).**"
   ]
  },
  {
   "cell_type": "code",
   "execution_count": null,
   "metadata": {},
   "outputs": [],
   "source": [
    "# Solution-9\n",
    "\n",
    "try:\n",
    "    x = float(input(\"Enter x coordinate of point : \"))         # taking input as float type\n",
    "    y = float(input(\"Enter y coordinate of point : \"))\n",
    "    \n",
    "    if x == 0:\n",
    "        if y == 0:\n",
    "            print(\"Point lies on origin\")                      # if coordinates are (0,0), it is origin\n",
    "        else:\n",
    "            print(\"Point lies on y-axis\")                      # x = 0 and y = non-zero, point lies on y-axis\n",
    "    elif y == 0:\n",
    "        if x != 0:\n",
    "            print(\"Point lies on x-axis\")                      # x = non-zero and y = 0, point lies on x-axis\n",
    "    else:\n",
    "        print(\"Point does not lie on any axis and origin\")\n",
    "        \n",
    "except ValueError:\n",
    "    print(\"Point should be numeric\")                           # exception will be raised for non-numeric value"
   ]
  },
  {
   "cell_type": "markdown",
   "metadata": {},
   "source": [
    "### Problem-10:\n",
    "**A certain grade of steel is graded according to the following conditions:**\n",
    "\n",
    "a.(i) Hardness must be greater than 50\n",
    "\n",
    "b.(ii) Carbon content must be less than 0.7\n",
    "\n",
    "c.(iii) Tensile strength must be greater than 5600\n",
    "\n",
    "The grades are as follows:\n",
    "\n",
    "Grade is 10 if all three conditions are met\n",
    "\n",
    "Grade is 9 if conditions (i) and (ii) are met\n",
    "\n",
    "Grade is 8 if conditions (ii) and (iii) are met\n",
    "\n",
    "Grade is 7 if conditions (i) and (iii) are met\n",
    "\n",
    "Grade is 6 if only one condition is met\n",
    "\n",
    "Grade is 5 if none of the conditions are met\n",
    "\n",
    "**Write a program, which will require the user to give values of hardness, carbon content and tensile strength of the steel under consideration and output the grade of the steel.**"
   ]
  },
  {
   "cell_type": "code",
   "execution_count": null,
   "metadata": {},
   "outputs": [],
   "source": [
    "# Solution-10\n",
    "\n",
    "try:\n",
    "    hardness = float(input(\"Enter the hardness of steel : \"))                    # input is taken as float type\n",
    "    carbon_content = float(input(\"Enter the carbon content of steel : \"))\n",
    "    tensile_strength = float(input(\"Enter the tensile strength of steel : \"))\n",
    "    \n",
    "    if hardness > 50 and carbon_content < 0.7 and tensile_strength > 5600:       # all three conditions satisfy\n",
    "        print(\"Grade is 10\")\n",
    "    elif hardness > 50 and carbon_content < 0.7 and tensile_strength <= 5600:    # condition 1 and 2 are met\n",
    "        print(\"Grade is 9\")\n",
    "    elif hardness <= 50 and carbon_content < 0.7 and tensile_strength > 5600:    # condition 2 and 3 are met\n",
    "        print(\"Grade is 8\")\n",
    "    elif hardness > 50 and carbon_content >= 0.7 and tensile_strength > 5600:    # condition 1 and 3 are met\n",
    "        print(\"Grade is 7\")\n",
    "    elif hardness <= 50 and carbon_content >= 0.7 and tensile_strength <= 5600:  # no conditions satisfy\n",
    "        print(\"Grade is 5\")\n",
    "    else:\n",
    "        print(\"Grade is 6\")                                                      # only one condition satisfy\n",
    "        \n",
    "except ValueError:\n",
    "    print(\"Parameters should be numeric\")                           # exception will be raised for non-numeric value"
   ]
  },
  {
   "cell_type": "markdown",
   "metadata": {},
   "source": [
    "### Problem-11:\n",
    "**A library charges a fine for every book returned late. For first 5 days the fine is 50 paise, for 6-10 days fine is one rupee and above 10 days fine is 5 rupees. If you return the book after 30 days your membership will be cancelled. Write a program to accept the number of days the member is late to return the book and display the fine or the appropriate message.**"
   ]
  },
  {
   "cell_type": "code",
   "execution_count": null,
   "metadata": {},
   "outputs": [],
   "source": [
    "# Solution-11\n",
    "\n",
    "try:\n",
    "    no_of_days = int(input(\"Enter number of days of late return : \"))  # input is taken as float type\n",
    "    \n",
    "    if no_of_days < 0:\n",
    "        print(\"Number of days cannot be negative\")\n",
    "        \n",
    "    elif no_of_days > 0 and no_of_days <= 5:                           # days between 0-5\n",
    "        fine = 0.5 * no_of_days\n",
    "        print(\"Total fine in Rs. =\", fine)\n",
    "        \n",
    "    elif no_of_days > 5 and no_of_days <= 10:                          # days between 6-10\n",
    "        fine = (0.5 * 5) + (no_of_days - 5)\n",
    "        print(\"Total fine in Rs. =\", fine)\n",
    "        \n",
    "    elif no_of_days > 10 and no_of_days < 30:                          # days between 11-29\n",
    "        fine = (0.5 * 5) + (1 * 5) + (5 * (no_of_days - 10))\n",
    "        print(\"Total fine in Rs. =\", fine)\n",
    "        \n",
    "    else:\n",
    "        print(\"Your membership is cancelled!\")                         # days >= 30  \n",
    "\n",
    "except ValueError:\n",
    "    print(\"Number of days should be numeric\")                          # exception will be raised for non-numeric value"
   ]
  },
  {
   "cell_type": "markdown",
   "metadata": {},
   "source": [
    "### Problem-12:\n",
    "**The policy followed by a company to process customer orders is given by the following rules:**\n",
    "\n",
    "a.If a customer order is less than or equal to that in stock and has credit is OK, supply has requirement.\n",
    "\n",
    "b.If has credit is not OK do not supply. Send him intimation.\n",
    "\n",
    "c.If has credit is Ok but the item in stock is less than has\n",
    "\n",
    "**order, supply what is in stock. Intimate to him data the balance will be shipped. Write a program to implement the company policy.**"
   ]
  },
  {
   "cell_type": "code",
   "execution_count": null,
   "metadata": {},
   "outputs": [],
   "source": [
    "# Solution-12\n",
    "\n",
    "try:\n",
    "    stocks = 100                                                         # assuming there are 100 orders in stock\n",
    "    no_of_orders = int(input(\"Enter the number of orders : \"))           # number of orders the user want\n",
    "    credit = input(\"Credit is OK/not OK?  : \")                           # if the credit is ok or not for user\n",
    "    \n",
    "    if credit != \"OK\" and credit != 'not OK':\n",
    "        print(\"Enter either OK or not OK\")\n",
    "    elif credit == 'not OK':\n",
    "        print(\"Please clear the credit first then order\")\n",
    "    elif no_of_orders <= stocks:\n",
    "        print(\"Number of orders supplied =\", no_of_orders)\n",
    "    else:\n",
    "        print(\"Number of orders that will be shipped = \", stocks)        # only items in the stock will be shipped\n",
    "        \n",
    "except ValueError:\n",
    "    print(\"Number of orders should be numeric\")                          # exception will be raised for non-numeric value"
   ]
  },
  {
   "cell_type": "markdown",
   "metadata": {},
   "source": [
    "### Problem-13:\n",
    "**In a company, worker efficiency is determined on the basis of the time required for a worker to complete a particular job. If the time taken by the worker is between 2 – 3 hours, then the worker is said to be highly efficient. If the time required by the worker is between 3 – 4 hours, then the worker is ordered to improve speed. If the time taken is between 4 – 5 hours, the worker is given training to improve his speed, and if the time taken by the worker is more than 5 hours, then the worker has to leave the company. If the time taken by the worker is input through the keyboard, find the efficiency of the worker.**"
   ]
  },
  {
   "cell_type": "code",
   "execution_count": null,
   "metadata": {},
   "outputs": [],
   "source": [
    "# Solution-13\n",
    "\n",
    "try:\n",
    "    time = float(input(\"Enter the time taken by worker : \"))   # input is taken as float\n",
    "    \n",
    "    if time <= 2:\n",
    "        print(\"No information on efficiency\")\n",
    "    elif time > 2 and time <= 3:\n",
    "        print(\"Highly efficient\")\n",
    "    elif time > 3 and time <= 4:\n",
    "        print(\"Improve speed\")\n",
    "    elif time > 4 and time <= 5:\n",
    "        print(\"Training is given to improve speed\")\n",
    "    else:\n",
    "        print(\"Worker has to leave the company\")               # time > 5 hrs\n",
    "        \n",
    "except ValueError:\n",
    "    print(\"time should be numeric\")                            # exception will be raised for non-numeric value"
   ]
  },
  {
   "cell_type": "markdown",
   "metadata": {},
   "source": [
    "### Problem-14:\n",
    "**A university has the following rules for a student to qualify for a degree with A as the main subject and B as the subsidiary subject:**\n",
    "\n",
    "a.He should get 55 percent or more in A and 45 percent or more in B.\n",
    "\n",
    "b.If he gets than 55 percent in A he should get 55 percent or more in B. However, he should get at least 45 percent in A.\n",
    "\n",
    "c.If he gets less than 45 percent in B and 65 percent or more in A he is allowed to reappear in an examination in B to qualify.\n",
    "\n",
    "d.In all other cases he is declared to have failed.\n",
    "\n",
    "**Write a program to receive marks in A and B and Output whether the student has passed, failed or is allowed to reappear in B.**"
   ]
  },
  {
   "cell_type": "code",
   "execution_count": null,
   "metadata": {},
   "outputs": [],
   "source": [
    "# Solution-14\n",
    "\n",
    "try:\n",
    "    marks_A = int(input(\"Enter the marks of subject A in percentage : \"))  # input is taken as int type\n",
    "    marks_B = int(input(\"Enter the marks of subject B in percentage : \"))\n",
    "    \n",
    "    if marks_A >= 55 and marks_B >= 45:\n",
    "        print(\"Student is pass\")\n",
    "    elif marks_A >= 45 and marks_A < 55 and marks_B >= 55:\n",
    "        print(\"Student is pass\")\n",
    "    elif marks_A >= 65 and marks_B < 45:\n",
    "        print(\"Student is allowed to reappear in exam\")\n",
    "    else:\n",
    "        print(\"Student is fail\")\n",
    "        \n",
    "except ValueError:\n",
    "    print(\"Marks should be numeric\")                                       # exception will be raised for non-numeric value"
   ]
  }
 ],
 "metadata": {
  "kernelspec": {
   "display_name": "Python 3",
   "language": "python",
   "name": "python3"
  },
  "language_info": {
   "codemirror_mode": {
    "name": "ipython",
    "version": 3
   },
   "file_extension": ".py",
   "mimetype": "text/x-python",
   "name": "python",
   "nbconvert_exporter": "python",
   "pygments_lexer": "ipython3",
   "version": "3.8.5"
  }
 },
 "nbformat": 4,
 "nbformat_minor": 5
}
