{
 "cells": [
  {
   "cell_type": "markdown",
   "metadata": {},
   "source": [
    "## Dictionaries"
   ]
  },
  {
   "cell_type": "markdown",
   "metadata": {
    "collapsed": true
   },
   "source": [
    "A dictionary is like a list, but more general. In a list, the positions (a.k.a. indices) have to be integers; in a dictionary the indices can be (almost) any type.\n",
    "\n",
    "You can think of a dictionary as a mapping between a set of indices (which are called keys) and a set of values. Each key maps to a value. The association of a key and a value is called a key-value pair or sometimes an item"
   ]
  },
  {
   "cell_type": "markdown",
   "metadata": {},
   "source": [
    "### An Example of Dictionary"
   ]
  },
  {
   "cell_type": "markdown",
   "metadata": {},
   "source": [
    "Let us build a dictionary that maps English to Spanish words. In this dictionary the keys will be some english words and their corresponding values will be the corresponding spanish words"
   ]
  },
  {
   "cell_type": "code",
   "execution_count": 1,
   "metadata": {},
   "outputs": [],
   "source": [
    "eng2sp = {'one': 'uno', 'two': 'dos', 'three': 'tres'}"
   ]
  },
  {
   "cell_type": "code",
   "execution_count": 2,
   "metadata": {},
   "outputs": [
    {
     "data": {
      "text/plain": [
       "{'one': 'uno', 'two': 'dos', 'three': 'tres'}"
      ]
     },
     "execution_count": 2,
     "metadata": {},
     "output_type": "execute_result"
    }
   ],
   "source": [
    "eng2sp"
   ]
  },
  {
   "cell_type": "code",
   "execution_count": 3,
   "metadata": {},
   "outputs": [
    {
     "data": {
      "text/plain": [
       "dict"
      ]
     },
     "execution_count": 3,
     "metadata": {},
     "output_type": "execute_result"
    }
   ],
   "source": [
    "type(eng2sp)"
   ]
  },
  {
   "cell_type": "code",
   "execution_count": 6,
   "metadata": {},
   "outputs": [],
   "source": [
    "dic = {1.01:'one', 'two':2, 3:[1,2,3]}"
   ]
  },
  {
   "cell_type": "code",
   "execution_count": 7,
   "metadata": {},
   "outputs": [
    {
     "data": {
      "text/plain": [
       "{1.01: 'one', 'two': 2, 3: [1, 2, 3]}"
      ]
     },
     "execution_count": 7,
     "metadata": {},
     "output_type": "execute_result"
    }
   ],
   "source": [
    "dic"
   ]
  },
  {
   "cell_type": "code",
   "execution_count": 9,
   "metadata": {},
   "outputs": [],
   "source": [
    "marks = {\"andy\":{\"ML\":44, \"ST\":76, \"CP\":88},\n",
    "         \"bill\":{\"ML\":48, \"ST\":72, \"CP\":78}}"
   ]
  },
  {
   "cell_type": "code",
   "execution_count": 10,
   "metadata": {},
   "outputs": [
    {
     "data": {
      "text/plain": [
       "{'ML': 44, 'ST': 76, 'CP': 88}"
      ]
     },
     "execution_count": 10,
     "metadata": {},
     "output_type": "execute_result"
    }
   ],
   "source": [
    "marks[\"andy\"]"
   ]
  },
  {
   "cell_type": "code",
   "execution_count": 11,
   "metadata": {},
   "outputs": [
    {
     "data": {
      "text/plain": [
       "76"
      ]
     },
     "execution_count": 11,
     "metadata": {},
     "output_type": "execute_result"
    }
   ],
   "source": [
    "marks[\"andy\"][\"ST\"]"
   ]
  },
  {
   "cell_type": "code",
   "execution_count": 12,
   "metadata": {},
   "outputs": [
    {
     "data": {
      "text/plain": [
       "{'ML': 48, 'ST': 72, 'CP': 78}"
      ]
     },
     "execution_count": 12,
     "metadata": {},
     "output_type": "execute_result"
    }
   ],
   "source": [
    "marks[\"bill\"]"
   ]
  },
  {
   "cell_type": "code",
   "execution_count": 13,
   "metadata": {},
   "outputs": [
    {
     "data": {
      "text/plain": [
       "78"
      ]
     },
     "execution_count": 13,
     "metadata": {},
     "output_type": "execute_result"
    }
   ],
   "source": [
    "marks[\"bill\"][\"CP\"]"
   ]
  },
  {
   "cell_type": "code",
   "execution_count": 14,
   "metadata": {},
   "outputs": [],
   "source": [
    "marks2 = [{\"ML\":44, \"ST\":76, \"CP\":88},\n",
    "          {\"ML\":48, \"ST\":72, \"CP\":78}]"
   ]
  },
  {
   "cell_type": "code",
   "execution_count": 15,
   "metadata": {},
   "outputs": [
    {
     "data": {
      "text/plain": [
       "{'ML': 44, 'ST': 76, 'CP': 88}"
      ]
     },
     "execution_count": 15,
     "metadata": {},
     "output_type": "execute_result"
    }
   ],
   "source": [
    "marks2[0]"
   ]
  },
  {
   "cell_type": "markdown",
   "metadata": {},
   "source": [
    "**Note:** \n",
    "\n",
    "* A dictionary is created using a curly bracket\n",
    "\n",
    "* The values in a dictionary are indexed by keys. The keys are needed to be specified while creating a dictionary. \n",
    "\n",
    "* As an example, 'one':'uno' represents a key-value pair."
   ]
  },
  {
   "cell_type": "markdown",
   "metadata": {},
   "source": [
    "*What if we enclose some values (separated by commas) in a curly bracket? What type of object do we get?*\n",
    "\n",
    "* *A dictionary with only keys.*\n",
    "* *A dictionary with elements indexed by integer*\n",
    "* *This object is not a dictionary*"
   ]
  },
  {
   "cell_type": "code",
   "execution_count": 101,
   "metadata": {},
   "outputs": [],
   "source": [
    "p = {1,2,3,4}"
   ]
  },
  {
   "cell_type": "code",
   "execution_count": 102,
   "metadata": {},
   "outputs": [
    {
     "data": {
      "text/plain": [
       "set"
      ]
     },
     "execution_count": 102,
     "metadata": {},
     "output_type": "execute_result"
    }
   ],
   "source": [
    "type(p)"
   ]
  },
  {
   "cell_type": "markdown",
   "metadata": {},
   "source": [
    "### Slicing a dictionary"
   ]
  },
  {
   "cell_type": "code",
   "execution_count": 16,
   "metadata": {},
   "outputs": [
    {
     "name": "stdout",
     "output_type": "stream",
     "text": [
      "uno\n",
      "tres\n"
     ]
    }
   ],
   "source": [
    "key = [\"one\", \"three\"]\n",
    "\n",
    "for k in key:\n",
    "    print(eng2sp[k])"
   ]
  },
  {
   "cell_type": "code",
   "execution_count": 17,
   "metadata": {},
   "outputs": [
    {
     "name": "stdout",
     "output_type": "stream",
     "text": [
      "uno\n",
      "dos\n"
     ]
    }
   ],
   "source": [
    "key = [\"one\", \"two\", \"three\"]\n",
    "\n",
    "for k in key[0:2]:\n",
    "    print(eng2sp[k])"
   ]
  },
  {
   "cell_type": "markdown",
   "metadata": {},
   "source": [
    "### Adding Key-Value in a dictionary"
   ]
  },
  {
   "cell_type": "code",
   "execution_count": 36,
   "metadata": {},
   "outputs": [],
   "source": [
    "dic = {1.01:'one', 'two':2, 3:[1,2,3]}"
   ]
  },
  {
   "cell_type": "code",
   "execution_count": 38,
   "metadata": {},
   "outputs": [],
   "source": [
    "dic[\"new\"]=5"
   ]
  },
  {
   "cell_type": "code",
   "execution_count": 37,
   "metadata": {},
   "outputs": [
    {
     "data": {
      "text/plain": [
       "{1.01: 'one', 'two': 2, 3: [1, 2, 3]}"
      ]
     },
     "execution_count": 37,
     "metadata": {},
     "output_type": "execute_result"
    }
   ],
   "source": [
    "dic"
   ]
  },
  {
   "cell_type": "code",
   "execution_count": 39,
   "metadata": {},
   "outputs": [],
   "source": [
    "dic[\"new\"]=8"
   ]
  },
  {
   "cell_type": "code",
   "execution_count": 40,
   "metadata": {},
   "outputs": [
    {
     "data": {
      "text/plain": [
       "{1.01: 'one', 'two': 2, 3: [1, 2, 3], 'new': 8}"
      ]
     },
     "execution_count": 40,
     "metadata": {},
     "output_type": "execute_result"
    }
   ],
   "source": [
    "dic"
   ]
  },
  {
   "cell_type": "markdown",
   "metadata": {},
   "source": [
    "### in Operator for Dictionary"
   ]
  },
  {
   "cell_type": "markdown",
   "metadata": {},
   "source": [
    "The in operator works on dictionaries; it tells you whether something appears as a key in the dictionary"
   ]
  },
  {
   "cell_type": "code",
   "execution_count": 41,
   "metadata": {},
   "outputs": [
    {
     "data": {
      "text/plain": [
       "True"
      ]
     },
     "execution_count": 41,
     "metadata": {},
     "output_type": "execute_result"
    }
   ],
   "source": [
    "'one' in eng2sp"
   ]
  },
  {
   "cell_type": "code",
   "execution_count": 42,
   "metadata": {},
   "outputs": [
    {
     "data": {
      "text/plain": [
       "False"
      ]
     },
     "execution_count": 42,
     "metadata": {},
     "output_type": "execute_result"
    }
   ],
   "source": [
    "'uno' in eng2sp"
   ]
  },
  {
   "cell_type": "markdown",
   "metadata": {},
   "source": [
    "### Counting the Frequency Distribution of Letters in a Word"
   ]
  },
  {
   "cell_type": "code",
   "execution_count": null,
   "metadata": {},
   "outputs": [],
   "source": [
    "#Frequency distriution of the letters in 'banana'\n",
    "\n",
    "s = 'I love pizza'\n"
   ]
  },
  {
   "cell_type": "code",
   "execution_count": null,
   "metadata": {},
   "outputs": [],
   "source": [
    "count = {}\n",
    "\n",
    "for letter in s:\n",
    "    \n",
    "    if letter not in count:\n",
    "        count[letter] = 1\n",
    "    else:\n",
    "        count[letter] += 1\n",
    "        \n",
    "print(count)"
   ]
  },
  {
   "attachments": {},
   "cell_type": "markdown",
   "metadata": {},
   "source": [
    "\n",
    "\n",
    "solve this with the concepts you have learnt in (1) list and (2) variables.\n",
    "\n",
    "\n",
    "Create a function which will take a string as an input and return the frequency distribution of the letters in the string.\n",
    "\n",
    "freq_distn(string):\n"
   ]
  },
  {
   "cell_type": "markdown",
   "metadata": {},
   "source": [
    "**The 'get' method for dictionary**"
   ]
  },
  {
   "cell_type": "markdown",
   "metadata": {},
   "source": [
    " Dictionaries have a method called get that takes a key and a default value. If the key appears in the dictionary, get returns the corresponding value; otherwise it returns the default value. "
   ]
  },
  {
   "cell_type": "code",
   "execution_count": 29,
   "metadata": {},
   "outputs": [
    {
     "data": {
      "text/plain": [
       "5"
      ]
     },
     "execution_count": 29,
     "metadata": {},
     "output_type": "execute_result"
    }
   ],
   "source": [
    "count.get(\"a\")"
   ]
  },
  {
   "cell_type": "code",
   "execution_count": 30,
   "metadata": {},
   "outputs": [
    {
     "data": {
      "text/plain": [
       "-1"
      ]
     },
     "execution_count": 30,
     "metadata": {},
     "output_type": "execute_result"
    }
   ],
   "source": [
    "count.get(\"j\", -1)"
   ]
  },
  {
   "cell_type": "markdown",
   "metadata": {},
   "source": [
    "**Making the counting simple using the 'get' method**"
   ]
  },
  {
   "cell_type": "code",
   "execution_count": null,
   "metadata": {},
   "outputs": [],
   "source": [
    "count = {}\n",
    "\n",
    "for letter in s:\n",
    "    \n",
    "    if letter not in count:\n",
    "        count[letter] = 1\n",
    "    else:\n",
    "        count[letter] += 1\n",
    "        \n",
    "print(count)"
   ]
  },
  {
   "cell_type": "code",
   "execution_count": null,
   "metadata": {},
   "outputs": [],
   "source": [
    "count = {}\n",
    "\n",
    "for letter in s:\n",
    "    count[letter] = count.get(letter, 0) + 1\n",
    "    \n",
    "print(count)    "
   ]
  },
  {
   "cell_type": "markdown",
   "metadata": {},
   "source": [
    "### A Common Use of Dictionaries"
   ]
  },
  {
   "cell_type": "markdown",
   "metadata": {
    "collapsed": true
   },
   "source": [
    "One of the common uses of a dictionary is to count the occurrence of words in a ﬁle with some written text."
   ]
  },
  {
   "cell_type": "code",
   "execution_count": null,
   "metadata": {},
   "outputs": [],
   "source": [
    "#Exercise: Read the Ashop1.txt file\n",
    "ashop1 = open('datasets/Ashop1.txt')\n"
   ]
  },
  {
   "cell_type": "code",
   "execution_count": 66,
   "metadata": {},
   "outputs": [
    {
     "name": "stdout",
     "output_type": "stream",
     "text": [
      "{'The': 1, 'Cock': 2, 'and': 3, 'the': 6, 'Pearl': 2, 'A': 1, 'cock': 1, 'was': 1, 'once': 1, 'strutting': 1, 'up': 1, 'down': 1, 'farmyard': 1, 'among': 1, 'hens': 1, 'when': 1, 'suddenly': 1, 'he': 2, 'espied': 1, 'something': 1, 'shinning': 1, 'amid': 1, 'straw': 2, 'Ho': 1, 'ho': 1, 'quoth': 2, 'thats': 1, 'for': 3, 'me': 2, 'soon': 1, 'rooted': 1, 'it': 2, 'out': 2, 'from': 1, 'beneath': 1, 'What': 1, 'did': 1, 'turn': 1, 'to': 2, 'be': 2, 'but': 2, 'a': 4, 'that': 3, 'by': 1, 'some': 1, 'chance': 1, 'had': 1, 'been': 1, 'lost': 1, 'in': 1, 'yard': 1, 'You': 1, 'may': 1, 'treasure': 1, 'Master': 1, 'men': 1, 'prize': 2, 'you,': 1, 'I': 1, 'would': 1, 'rather': 1, 'have': 1, 'single': 1, 'barley-corn': 1, 'than': 1, 'peck': 1, 'of': 1, 'pearls': 1, 'Precious': 1, 'things': 1, 'are': 1, 'those': 1, 'can': 1, 'them': 1}\n"
     ]
    }
   ],
   "source": [
    "ashop1 = open('datasets/Ashop1.txt')\n",
    "# count = 0\n",
    "freq = {}\n",
    "\n",
    "for line in ashop1:                            # loop over each line\n",
    "    line = line.rstrip()                       # removing '\\n' and extra spaces\n",
    "    word_list = line.split()                   # spliting line in words having space as delimiter\n",
    "    \n",
    "    for word in word_list:\n",
    "        # print(word)\n",
    "        freq[word] = freq.get(word, 0) + 1     # adding the word if not present in dictionary else increasing the counter\n",
    "        # count += 1\n",
    "\n",
    "# print(count)\n",
    "print(freq)"
   ]
  },
  {
   "attachments": {},
   "cell_type": "markdown",
   "metadata": {},
   "source": [
    "**Exercise:** Find the frequency distribution of the of the words present in this file. \n"
   ]
  },
  {
   "cell_type": "markdown",
   "metadata": {},
   "source": [
    "Note: The printing is not in any particular order"
   ]
  },
  {
   "cell_type": "code",
   "execution_count": 70,
   "metadata": {},
   "outputs": [
    {
     "name": "stdout",
     "output_type": "stream",
     "text": [
      "2 Cock\n",
      "3 and\n",
      "6 the\n",
      "2 Pearl\n",
      "2 he\n",
      "2 straw\n",
      "2 quoth\n",
      "3 for\n",
      "2 me\n",
      "2 it\n",
      "2 out\n",
      "2 to\n",
      "2 be\n",
      "2 but\n",
      "4 a\n",
      "3 that\n",
      "2 prize\n"
     ]
    }
   ],
   "source": [
    "#Printing words with count greater than or equal to 2\n",
    "ashop1 = open('datasets/Ashop1.txt')\n",
    "freq = {}\n",
    "\n",
    "for line in ashop1:                            # loop over each line\n",
    "    line = line.rstrip()                       # removing '\\n' and extra spaces\n",
    "    word_list = line.split()                   # spliting line in words having space as delimiter\n",
    "    \n",
    "    for word in word_list:\n",
    "        freq[word] = freq.get(word, 0) + 1     # adding the word if not present in dictionary else increasing the counter\n",
    "        \n",
    "for key in freq:\n",
    "    if freq[key] >= 2:\n",
    "        print(freq[key], key)"
   ]
  },
  {
   "cell_type": "code",
   "execution_count": 18,
   "metadata": {},
   "outputs": [
    {
     "name": "stdout",
     "output_type": "stream",
     "text": [
      "['The', 'Cock', 'and', 'the', 'Pearl', 'A', 'cock', 'was', 'once', 'strutting', 'up', 'down', 'farmyard', 'among', 'hens', 'when', 'suddenly', 'he', 'espied', 'something', 'shinning', 'amid', 'straw', 'Ho', 'ho', 'quoth', 'thats', 'for', 'me', 'soon', 'rooted', 'it', 'out', 'from', 'beneath', 'What', 'did', 'turn', 'to', 'be', 'but', 'a', 'that', 'by', 'some', 'chance', 'had', 'been', 'lost', 'in', 'yard', 'You', 'may', 'treasure', 'Master', 'men', 'prize', 'you,', 'I', 'would', 'rather', 'have', 'single', 'barley-corn', 'than', 'peck', 'of', 'pearls', 'Precious', 'things', 'are', 'those', 'can', 'them']\n",
      "['A', 'Cock', 'Ho', 'I', 'Master', 'Pearl', 'Precious', 'The', 'What', 'You', 'a', 'amid', 'among', 'and', 'are', 'barley-corn', 'be', 'been', 'beneath', 'but', 'by', 'can', 'chance', 'cock', 'did', 'down', 'espied', 'farmyard', 'for', 'from', 'had', 'have', 'he', 'hens', 'ho', 'in', 'it', 'lost', 'may', 'me', 'men', 'of', 'once', 'out', 'pearls', 'peck', 'prize', 'quoth', 'rather', 'rooted', 'shinning', 'single', 'some', 'something', 'soon', 'straw', 'strutting', 'suddenly', 'than', 'that', 'thats', 'the', 'them', 'things', 'those', 'to', 'treasure', 'turn', 'up', 'was', 'when', 'would', 'yard', 'you,']\n"
     ]
    }
   ],
   "source": [
    "#Printing keys in alphabetical order:\n",
    "\n",
    "#But before that....\n",
    "#Method keys - makes a dict of keys\n",
    "\n",
    "ashop1 = open('datasets/Ashop1.txt')\n",
    "# count = 0\n",
    "freq = {}\n",
    "\n",
    "for line in ashop1:                            # loop over each line\n",
    "    line = line.rstrip()                       # removing '\\n' and extra spaces\n",
    "    word_list = line.split()                   # spliting line in words having space as delimiter\n",
    "    \n",
    "    for word in word_list:\n",
    "        # print(word)\n",
    "        freq[word] = freq.get(word, 0) + 1     # adding the word if not present in dictionary else increasing the counter\n",
    "        # count += 1\n",
    "\n",
    "# print(count)\n",
    "# print(freq)\n",
    "\n",
    "key_list = list(freq.keys())                   # getting keys of freq in a listt\n",
    "print(key_list)\n",
    "\n",
    "for i in range(len(key_list)-1):               # sorting the list\n",
    "    \n",
    "    for j in range(i+1, len(key_list)):\n",
    "        \n",
    "        if key_list[i] > key_list[j]:\n",
    "            temp = key_list[i]\n",
    "            key_list[i] = key_list[j]\n",
    "            key_list[j] = temp\n",
    "            \n",
    "print(key_list)"
   ]
  },
  {
   "cell_type": "markdown",
   "metadata": {},
   "source": [
    "### Advanced Text Parsing"
   ]
  },
  {
   "cell_type": "markdown",
   "metadata": {
    "collapsed": true
   },
   "source": [
    "The actual text for this particular Ashop's fable is given in the file Ashop.txt. The actual file has lots of punctuations. We should also take care of the case sensitivity."
   ]
  },
  {
   "cell_type": "code",
   "execution_count": 90,
   "metadata": {},
   "outputs": [
    {
     "data": {
      "text/plain": [
       "'!\"#$%&\\'()*+,-./:;<=>?@[\\\\]^_`{|}~'"
      ]
     },
     "execution_count": 90,
     "metadata": {},
     "output_type": "execute_result"
    }
   ],
   "source": [
    "#Before we do so lets look at some other thing.\n",
    "\n",
    "#1. punctuation\n",
    "import string\n",
    "p = string.punctuation\n",
    "p"
   ]
  },
  {
   "cell_type": "code",
   "execution_count": null,
   "metadata": {},
   "outputs": [],
   "source": [
    "#2. translate method for string\n",
    "# str.maketrans()\n",
    "\n",
    "#This uses the 3-argument version of str.maketrans with arguments (x, y, z) where 'x' and 'y'\n",
    "# must be equal-length strings and characters in 'x' are replaced by characters in 'y'. 'z'\n",
    "# is a string (string.punctuation here) where each character in the string is mapped to None\n",
    "\n"
   ]
  },
  {
   "cell_type": "code",
   "execution_count": 79,
   "metadata": {},
   "outputs": [],
   "source": [
    "trans = str.maketrans(\"w\", \"W\", \"!\")"
   ]
  },
  {
   "cell_type": "code",
   "execution_count": 73,
   "metadata": {},
   "outputs": [
    {
     "data": {
      "text/plain": [
       "{119: 87, 33: None}"
      ]
     },
     "execution_count": 73,
     "metadata": {},
     "output_type": "execute_result"
    }
   ],
   "source": [
    "trans"
   ]
  },
  {
   "cell_type": "code",
   "execution_count": 77,
   "metadata": {},
   "outputs": [],
   "source": [
    "string = \"wwoooowww!!!\""
   ]
  },
  {
   "cell_type": "code",
   "execution_count": 78,
   "metadata": {},
   "outputs": [
    {
     "data": {
      "text/plain": [
       "'WWooooWWW'"
      ]
     },
     "execution_count": 78,
     "metadata": {},
     "output_type": "execute_result"
    }
   ],
   "source": [
    "string.translate(trans)"
   ]
  },
  {
   "cell_type": "code",
   "execution_count": 84,
   "metadata": {},
   "outputs": [],
   "source": [
    "t = str.maketrans(\"abc\", \"xyz\", \"Go\")\n",
    "s = 'asdbbolcacGbkoek'"
   ]
  },
  {
   "cell_type": "code",
   "execution_count": 85,
   "metadata": {},
   "outputs": [
    {
     "data": {
      "text/plain": [
       "'xsdyylzxzykek'"
      ]
     },
     "execution_count": 85,
     "metadata": {},
     "output_type": "execute_result"
    }
   ],
   "source": [
    "s.translate(t)"
   ]
  },
  {
   "cell_type": "code",
   "execution_count": 88,
   "metadata": {},
   "outputs": [],
   "source": [
    "t1 = str.maketrans(\"abc\", \"xyz\", \"ao\")\n",
    "s1 = 'asdbbolcacGbkoek'"
   ]
  },
  {
   "cell_type": "code",
   "execution_count": 89,
   "metadata": {},
   "outputs": [
    {
     "data": {
      "text/plain": [
       "'sdyylzzGykek'"
      ]
     },
     "execution_count": 89,
     "metadata": {},
     "output_type": "execute_result"
    }
   ],
   "source": [
    "s1.translate(t1)"
   ]
  },
  {
   "cell_type": "code",
   "execution_count": 100,
   "metadata": {},
   "outputs": [
    {
     "name": "stdout",
     "output_type": "stream",
     "text": [
      "the cock and the pearl\n",
      "\n",
      "\n",
      "\n",
      "a cock was once strutting up and down the farmyard among the\n",
      "\n",
      "hens when suddenly he espied something shinning amid the straw\n",
      "\n",
      "ho ho quoth he thats for me and soon rooted it out from\n",
      "\n",
      "beneath the straw  what did it turn out to be but a pearl that by\n",
      "\n",
      "some chance had been lost in the yard  you may be a treasure\n",
      "\n",
      "quoth master cock to men that prize you but for me i would\n",
      "\n",
      "rather have a single barleycorn than a peck of pearls\n",
      "\n",
      "\n",
      "\n",
      "precious things are for those that can prize them\n"
     ]
    }
   ],
   "source": [
    "ashop1 = open('datasets/Ashop1.txt')\n",
    "t = str.maketrans(\"\", \"\", string.punctuation)\n",
    "\n",
    "for line in ashop1:                            # loop over each line\n",
    "    line = line.lower()                        # converting into lowercase\n",
    "    #line = line.rstrip()\n",
    "    line = line.translate(t)                   # remove the punctuations\n",
    "    \n",
    "    print(line) "
   ]
  },
  {
   "cell_type": "code",
   "execution_count": 97,
   "metadata": {},
   "outputs": [
    {
     "data": {
      "text/plain": [
       "'adgd  fakldj dsfjsfd'"
      ]
     },
     "execution_count": 97,
     "metadata": {},
     "output_type": "execute_result"
    }
   ],
   "source": [
    "st = 'ad-gd  fakldj, dsfj$sfd'\n",
    "st.translate(t)"
   ]
  },
  {
   "cell_type": "code",
   "execution_count": null,
   "metadata": {},
   "outputs": [],
   "source": []
  }
 ],
 "metadata": {
  "kernelspec": {
   "display_name": "base",
   "language": "python",
   "name": "python3"
  },
  "language_info": {
   "codemirror_mode": {
    "name": "ipython",
    "version": 3
   },
   "file_extension": ".py",
   "mimetype": "text/x-python",
   "name": "python",
   "nbconvert_exporter": "python",
   "pygments_lexer": "ipython3",
   "version": "3.8.5 (default, Sep  3 2020, 21:29:08) [MSC v.1916 64 bit (AMD64)]"
  },
  "vscode": {
   "interpreter": {
    "hash": "5430e0f77a70b1ec9cb894e4dcb6b9d7dccb65955075b88d2031a0b90833dc4e"
   }
  }
 },
 "nbformat": 4,
 "nbformat_minor": 2
}
