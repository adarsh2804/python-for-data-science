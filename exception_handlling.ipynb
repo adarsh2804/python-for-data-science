{
 "cells": [
  {
   "cell_type": "code",
   "execution_count": null,
   "metadata": {},
   "outputs": [],
   "source": [
    "# Exception handling is done when we know that our code is going to throw some exceptions. We use try and except keywords to raise exception"
   ]
  },
  {
   "cell_type": "code",
   "execution_count": 3,
   "metadata": {},
   "outputs": [
    {
     "name": "stdout",
     "output_type": "stream",
     "text": [
      "Enter the number of hours : dsf\n",
      "Wrong input! Enter the integer value\n"
     ]
    }
   ],
   "source": [
    "# 1\n",
    "try:\n",
    "    hours = int(input(\"Enter the number of hours : \"))\n",
    "    pay = 37\n",
    "    total = hours*pay\n",
    "    print(total)\n",
    "except ValueError:                                                   # since the value entered is not integer\n",
    "    print(\"Wrong input! Enter the integer value\")"
   ]
  },
  {
   "cell_type": "code",
   "execution_count": null,
   "metadata": {},
   "outputs": [],
   "source": []
  },
  {
   "cell_type": "code",
   "execution_count": 4,
   "metadata": {},
   "outputs": [
    {
     "name": "stdout",
     "output_type": "stream",
     "text": [
      "Enter marks of quiz 1 out of 20 : fa\n",
      "Wrong input! Enter the integer value\n",
      "Cannot print result as input not given in integer\n"
     ]
    }
   ],
   "source": [
    "# 2\n",
    "try:\n",
    "    test_1 = int(input(\"Enter marks of quiz 1 out of 20 : \"))        # takes input as int value from user\n",
    "    test_2 = int(input(\"Enter marks of quiz 2 out of 20 : \"))\n",
    "    test_3 = int(input(\"Enter marks of class test out of 50 : \"))\n",
    "    test_4 = int(input(\"Enter marks of assignment out of 100 : \"))\n",
    "    test_5 = int(input(\"Enter marks of project out of 200 : \"))\n",
    "except ValueError:                                                   # if input is not integer this except statement will get executed\n",
    "    print(\"Wrong input! Enter the integer value\")\n",
    "\n",
    "try:                              # since the value given as input is not integer variable test_1 will be undefined\n",
    "    weighted_score_1 = test_1/2                                      \n",
    "    weighted_score_2 = test_2/2\n",
    "    weighted_score_3 = test_3/2\n",
    "    weighted_score_4 = test_4/4\n",
    "    weighted_score_5 = test_5*3/20\n",
    "\n",
    "    total_marks = weighted_score_1 + weighted_score_2 + weighted_score_3 + weighted_score_4 + weighted_score_5 # score out of 100\n",
    "\n",
    "    print(total_marks)\n",
    "except NameError:                # variable test_1 is undefined and will throw NameError exception\n",
    "    print(\"Cannot print result as input not given in integer\")"
   ]
  },
  {
   "cell_type": "code",
   "execution_count": null,
   "metadata": {},
   "outputs": [],
   "source": []
  },
  {
   "cell_type": "code",
   "execution_count": 5,
   "metadata": {},
   "outputs": [
    {
     "name": "stdout",
     "output_type": "stream",
     "text": [
      "Enter the number : sd\n",
      "Please enter integer value\n"
     ]
    }
   ],
   "source": [
    "# 3\n",
    "try:\n",
    "    x = int(input(\"Enter the number : \"))\n",
    "    if x%2 == 0:\n",
    "        print(\"Even\")\n",
    "    else:\n",
    "        print(\"Odd\")                          # Since the input value is not integer exception is raised\n",
    "except ValueError:\n",
    "    print(\"Please enter integer value\")  "
   ]
  },
  {
   "cell_type": "code",
   "execution_count": null,
   "metadata": {},
   "outputs": [],
   "source": []
  },
  {
   "cell_type": "code",
   "execution_count": 1,
   "metadata": {},
   "outputs": [],
   "source": [
    "# 4\n",
    "def odd_or_even(num):                         # argument is of string type\n",
    "    try:\n",
    "        if num%2 == 0:\n",
    "            print(\"Even number\")\n",
    "        else:\n",
    "            print(\"Odd number\")\n",
    "    except TypeError:                         # argument is not of integer type hence exception is raised\n",
    "        print(\"Please enter integer value\")"
   ]
  },
  {
   "cell_type": "code",
   "execution_count": 2,
   "metadata": {},
   "outputs": [
    {
     "name": "stdout",
     "output_type": "stream",
     "text": [
      "Please enter integer value\n"
     ]
    }
   ],
   "source": [
    "odd_or_even('ad')"
   ]
  },
  {
   "cell_type": "code",
   "execution_count": null,
   "metadata": {},
   "outputs": [],
   "source": []
  },
  {
   "cell_type": "code",
   "execution_count": 16,
   "metadata": {},
   "outputs": [
    {
     "name": "stdout",
     "output_type": "stream",
     "text": [
      "package is not imported\n"
     ]
    }
   ],
   "source": [
    "# 5\n",
    "try:\n",
    "    os.getcwd()\n",
    "except:                             # We have not imported the os package\n",
    "    print(\"package is not imported\")"
   ]
  },
  {
   "cell_type": "code",
   "execution_count": null,
   "metadata": {},
   "outputs": [],
   "source": []
  },
  {
   "cell_type": "code",
   "execution_count": 8,
   "metadata": {},
   "outputs": [],
   "source": [
    "# Divide by zero"
   ]
  },
  {
   "cell_type": "code",
   "execution_count": 10,
   "metadata": {},
   "outputs": [
    {
     "name": "stdout",
     "output_type": "stream",
     "text": [
      "Number cannot be divided by zero\n"
     ]
    }
   ],
   "source": [
    "# 6\n",
    "a = 5\n",
    "\n",
    "try:\n",
    "    a/0\n",
    "except ZeroDivisionError:                     # number cant be divided by zero hence exception is occured\n",
    "    print(\"Number cannot be divided by zero\")"
   ]
  },
  {
   "cell_type": "code",
   "execution_count": null,
   "metadata": {},
   "outputs": [],
   "source": []
  },
  {
   "cell_type": "code",
   "execution_count": 15,
   "metadata": {},
   "outputs": [
    {
     "name": "stdout",
     "output_type": "stream",
     "text": [
      "Number cannot be divided by zero\n"
     ]
    }
   ],
   "source": [
    "# 7 Multiple Exception Handling\n",
    "\n",
    "def func(num):                                # argument num is 10\n",
    "    if num <= 5:                              # skipped as num is not 5\n",
    "        a = 100/(num-5)                       # hence a is not defined as this statement will not get executed\n",
    "    print(a)\n",
    "    \n",
    "try:\n",
    "    func(10)\n",
    "    func(5)\n",
    "except NameError:                             # since variable a is not defined exception will be raised\n",
    "    print(\"Value entered should be 5\")\n",
    "except ZeroDivisionError:                     # number cant be divided by zero hence exception is occured\n",
    "    print(\"Number cannot be divided by zero\")"
   ]
  },
  {
   "cell_type": "code",
   "execution_count": null,
   "metadata": {},
   "outputs": [],
   "source": []
  },
  {
   "cell_type": "code",
   "execution_count": 13,
   "metadata": {},
   "outputs": [
    {
     "name": "stdout",
     "output_type": "stream",
     "text": [
      "50\n",
      "This statement is always executed\n"
     ]
    }
   ],
   "source": [
    "# 8\n",
    "def func(num):\n",
    "    if num == 5:\n",
    "        a = num * 10\n",
    "    print(a)\n",
    "    \n",
    "try:\n",
    "    func(5)\n",
    "except NameError:\n",
    "    print(\"Value entered should be 5\")\n",
    "finally:                                       # always executed irrespective of exception generation\n",
    "    print(\"This statement is always executed\")"
   ]
  },
  {
   "cell_type": "code",
   "execution_count": null,
   "metadata": {},
   "outputs": [],
   "source": []
  },
  {
   "cell_type": "code",
   "execution_count": 18,
   "metadata": {},
   "outputs": [],
   "source": [
    "# 9\n",
    "def sum_of_digits(x):\n",
    "    try:\n",
    "        return (x//10**0)%10 + (x//10**1)%10 + (x//10**2)%10 + (x//10**3)%10 + (x//10**4)%10\n",
    "    except TypeError:\n",
    "        print(\"Enter integer value\")"
   ]
  },
  {
   "cell_type": "code",
   "execution_count": 20,
   "metadata": {},
   "outputs": [
    {
     "name": "stdout",
     "output_type": "stream",
     "text": [
      "Enter integer value\n"
     ]
    }
   ],
   "source": [
    "sum_of_digits('adf')"
   ]
  },
  {
   "cell_type": "code",
   "execution_count": null,
   "metadata": {},
   "outputs": [],
   "source": []
  },
  {
   "cell_type": "code",
   "execution_count": 23,
   "metadata": {},
   "outputs": [
    {
     "name": "stdout",
     "output_type": "stream",
     "text": [
      "Enter the number of hours : 34\n",
      "Enter the rate per hour : gggre\n",
      "Enter the value in correct format\n"
     ]
    }
   ],
   "source": [
    "# 10\n",
    "try:\n",
    "    hrs = int(input(\"Enter the number of hours : \"))\n",
    "    rate = float(input(\"Enter the rate per hour : \"))\n",
    "\n",
    "    if hrs <= 40:\n",
    "        total_pay = hrs * rate\n",
    "    else:\n",
    "        basic_pay = 40 * rate\n",
    "        bonus = (hrs - 40)*1.5*rate              # 1.5 times hourly rate for more than 40 hrs\n",
    "        total_pay = basic_pay + bonus\n",
    "\n",
    "    print(total_pay)\n",
    "except:\n",
    "    print(\"Enter the value in correct format\")"
   ]
  },
  {
   "cell_type": "code",
   "execution_count": null,
   "metadata": {},
   "outputs": [],
   "source": []
  }
 ],
 "metadata": {
  "kernelspec": {
   "display_name": "Python 3",
   "language": "python",
   "name": "python3"
  },
  "language_info": {
   "codemirror_mode": {
    "name": "ipython",
    "version": 3
   },
   "file_extension": ".py",
   "mimetype": "text/x-python",
   "name": "python",
   "nbconvert_exporter": "python",
   "pygments_lexer": "ipython3",
   "version": "3.8.5"
  }
 },
 "nbformat": 4,
 "nbformat_minor": 4
}
