{
 "cells": [
  {
   "cell_type": "markdown",
   "metadata": {},
   "source": [
    "### A. Text Files and Lines"
   ]
  },
  {
   "cell_type": "markdown",
   "metadata": {},
   "source": [
    "Recall that a Python string can be thought of as a sequence of characters. In a similar way, a text file can be thought of as a sequence of lines"
   ]
  },
  {
   "cell_type": "markdown",
   "metadata": {},
   "source": [
    "For example, consider the following sample of a text file\n",
    "\n",
    "    From stephen.marquard@uct.ac.za Sat Jan 5 09:14:16 2008\n",
    "    Return-Path: <postmaster@collab.sakaiproject.org>\n",
    "    Date: Sat, 5 Jan 2008 09:12:18 -0500\n",
    "    To: source@collab.sakaiproject.org\n",
    "    From: stephen.marquard@uct.ac.za\n",
    "    Subject: [sakai] svn commit: r39772 - content/branches/\n",
    "    Details: http://source.sakaiproject.org/viewsvn/?view=rev&rev=39772"
   ]
  },
  {
   "cell_type": "markdown",
   "metadata": {},
   "source": [
    "These files are in a standard format for a file containing multiple mail messages. The lines which start with “From ” separate the messages and the lines which start with “From:” are part of the messages. For more information about the mbox format, see en.wikipedia.org/wiki/Mbox."
   ]
  },
  {
   "cell_type": "markdown",
   "metadata": {},
   "source": [
    "To break the file into lines, there is a special character that represents the “end of the line” called the newline character."
   ]
  },
  {
   "cell_type": "markdown",
   "metadata": {},
   "source": [
    "### B. Newline"
   ]
  },
  {
   "cell_type": "markdown",
   "metadata": {},
   "source": [
    "In Python, the newline character is represented by \\n"
   ]
  },
  {
   "cell_type": "markdown",
   "metadata": {},
   "source": [
    "*(Even though this looks like two characters, it is actually a single character.)*"
   ]
  },
  {
   "cell_type": "code",
   "execution_count": null,
   "metadata": {},
   "outputs": [],
   "source": [
    "mystr = \"A\\nB\"\n",
    "print(mystr)"
   ]
  },
  {
   "cell_type": "code",
   "execution_count": null,
   "metadata": {},
   "outputs": [],
   "source": [
    "len(mystr)"
   ]
  },
  {
   "cell_type": "markdown",
   "metadata": {},
   "source": [
    "**Note:** \n",
    "*So when we look at the lines in a file, we need to imagine that there is a special invisible character called the newline at the end of each line that marks the end of the line.*"
   ]
  },
  {
   "cell_type": "markdown",
   "metadata": {},
   "source": [
    "### C. Reading Files"
   ]
  },
  {
   "cell_type": "code",
   "execution_count": null,
   "metadata": {},
   "outputs": [],
   "source": [
    "import os"
   ]
  },
  {
   "cell_type": "code",
   "execution_count": null,
   "metadata": {},
   "outputs": [],
   "source": [
    "#File handle\n",
    "fhand = open(\"datsets/mbox-short.txt\")"
   ]
  },
  {
   "cell_type": "code",
   "execution_count": 7,
   "metadata": {},
   "outputs": [
    {
     "name": "stdout",
     "output_type": "stream",
     "text": [
      "From stephen.marquard@uct.ac.za Sat Jan  5 09:14:16 2008\n",
      "Return-Path: <postmaster@collab.sakaiproject.org>\n",
      "Received: from murder (mail.umich.edu [141.211.14.90])\n",
      "\t by frankenstein.mail.umich.edu (Cyrus v2.3.8) with LMTPA;\n",
      "\t Sat, 05 Jan 2008 09:14:16 -0500\n",
      "X-Sieve: CMU Sieve 2.3\n",
      "Received: from murder ([unix socket])\n",
      "\t by mail.umich.edu (Cyrus v2.2.12) with LMTPA;\n",
      "\t Sat, 05 Jan 2008 09:14:16 -0500\n",
      "Received: from holes.mr.itd.umich.edu (holes.mr.itd.umich.edu [141.211.14.79])\n"
     ]
    }
   ],
   "source": [
    "fhand = open(\"datasets/mbox-short.txt\")\n",
    "count = 0\n",
    "\n",
    "for line in fhand:\n",
    "    line = line.rstrip()\n",
    "    count += 1\n",
    "    print(line)\n",
    "    \n",
    "    if count == 10:\n",
    "        break"
   ]
  },
  {
   "cell_type": "code",
   "execution_count": null,
   "metadata": {},
   "outputs": [],
   "source": [
    "fhand = open(\"datasets/mbox-short.txt\")\n",
    "count = 0\n",
    "\n",
    "for line in fhand:\n",
    "    count += 1          # counter is incremented in each iteration\n",
    "    \n",
    "print(count)"
   ]
  },
  {
   "cell_type": "code",
   "execution_count": 4,
   "metadata": {},
   "outputs": [
    {
     "name": "stdout",
     "output_type": "stream",
     "text": [
      "Received: from holes.mr.itd.umich.edu (holes.mr.itd.umich.edu [141.211.14.79])\n",
      "\n",
      "\tby flawless.mail.umich.edu () with ESMTP id m05EEFR1013674;\n",
      "\n",
      "\tSat, 5 Jan 2008 09:14:15 -0500\n",
      "\n",
      "Received: FROM paploo.uhi.ac.uk (app1.prod.collab.uhi.ac.uk [194.35.219.184])\n",
      "\n",
      "\tBY holes.mr.itd.umich.edu ID 477F90B0.2DB2F.12494 ; \n",
      "\n",
      "\t 5 Jan 2008 09:14:10 -0500\n",
      "\n",
      "Received: from paploo.uhi.ac.uk (localhost [127.0.0.1])\n",
      "\n",
      "\tby paploo.uhi.ac.uk (Postfix) with ESMTP id 5F919BC2F2;\n",
      "\n",
      "\tSat,  5 Jan 2008 14:10:05 +0000 (GMT)\n",
      "\n",
      "Message-ID: <200801051412.m05ECIaH010327@nakamura.uits.iupui.edu>\n",
      "\n",
      "Mime-Version: 1.0\n",
      "\n"
     ]
    }
   ],
   "source": [
    "fhand = open(\"datasets/mbox-short.txt\")\n",
    "count = 0\n",
    "\n",
    "for line in fhand:\n",
    "    count += 1\n",
    "    \n",
    "    if count >= 10 and count <= 20:\n",
    "        print(line)                   # it will print the lines from 10 to 20\n",
    "    elif count > 20:\n",
    "        break                         # for line > 20 it will terminate the loop\n",
    "    else:\n",
    "        continue                      # it will skip the particular step   "
   ]
  },
  {
   "cell_type": "code",
   "execution_count": 6,
   "metadata": {},
   "outputs": [
    {
     "name": "stdout",
     "output_type": "stream",
     "text": [
      "Received: from holes.mr.itd.umich.edu (holes.mr.itd.umich.edu [141.211.14.79])\n",
      "\n",
      "\tby flawless.mail.umich.edu () with ESMTP id m05EEFR1013674;\n",
      "\n",
      "\tSat, 5 Jan 2008 09:14:15 -0500\n",
      "\n",
      "Received: FROM paploo.uhi.ac.uk (app1.prod.collab.uhi.ac.uk [194.35.219.184])\n",
      "\n",
      "\tBY holes.mr.itd.umich.edu ID 477F90B0.2DB2F.12494 ; \n",
      "\n",
      "\t 5 Jan 2008 09:14:10 -0500\n",
      "\n",
      "Received: from paploo.uhi.ac.uk (localhost [127.0.0.1])\n",
      "\n",
      "\tby paploo.uhi.ac.uk (Postfix) with ESMTP id 5F919BC2F2;\n",
      "\n",
      "\tSat,  5 Jan 2008 14:10:05 +0000 (GMT)\n",
      "\n",
      "Message-ID: <200801051412.m05ECIaH010327@nakamura.uits.iupui.edu>\n",
      "\n",
      "Mime-Version: 1.0\n",
      "\n"
     ]
    }
   ],
   "source": [
    "fhand = open(\"datasets/mbox-short.txt\")\n",
    "count = 0\n",
    "\n",
    "for line in fhand:\n",
    "    count += 1\n",
    "    \n",
    "    if count < 10:\n",
    "        continue\n",
    "  \n",
    "    print(line)\n",
    "    \n",
    "    if count == 20:\n",
    "        break"
   ]
  },
  {
   "cell_type": "code",
   "execution_count": null,
   "metadata": {},
   "outputs": [],
   "source": [
    "fhand = open(\"datasets/mbox-short.txt\")\n",
    "count = 0\n",
    "\n",
    "for line in fhand:\n",
    "    count += 1\n",
    "    \n",
    "    if count >= 10 and count <= 20:\n",
    "        print(line)                        # loop will run for entire file"
   ]
  },
  {
   "cell_type": "markdown",
   "metadata": {},
   "source": [
    "**Note:**\n",
    "*File handle does not contain the data for the file*"
   ]
  },
  {
   "cell_type": "markdown",
   "metadata": {},
   "source": [
    "**1. Reading the data using a loop**\n",
    "\n",
    "We can easily construct a for loop to read through and count each of the lines in a file:"
   ]
  },
  {
   "cell_type": "code",
   "execution_count": null,
   "metadata": {},
   "outputs": [],
   "source": [
    "#Reading first 10 lines:\n",
    "fhand = open(\"datasets/mbox-short.txt\")\n",
    "count = 0\n",
    "\n",
    "for line in fhand:\n",
    "    line = line.rstrip()\n",
    "    count += 1\n",
    "    print(line)\n",
    "    \n",
    "    if count == 10:\n",
    "        break"
   ]
  },
  {
   "cell_type": "code",
   "execution_count": null,
   "metadata": {},
   "outputs": [],
   "source": [
    "#Total number of lines present in the file:\n",
    "fhand = open(\"datasets/mbox-short.txt\")\n",
    "count = 0\n",
    "\n",
    "for line in fhand:\n",
    "    count += 1          # counter is incremented in each iteration\n",
    "    \n",
    "print(count)"
   ]
  },
  {
   "cell_type": "code",
   "execution_count": null,
   "metadata": {},
   "outputs": [],
   "source": [
    "#Total number of lines present in the file:\n"
   ]
  },
  {
   "cell_type": "markdown",
   "metadata": {},
   "source": [
    "**2. Reading data using the read method for files**"
   ]
  },
  {
   "cell_type": "code",
   "execution_count": 1,
   "metadata": {},
   "outputs": [],
   "source": [
    "#Reading data using read() method:\n",
    "fhand = open(\"datasets/mbox-short.txt\")\n",
    "\n",
    "file = fhand.read()"
   ]
  },
  {
   "cell_type": "code",
   "execution_count": 2,
   "metadata": {},
   "outputs": [
    {
     "data": {
      "text/plain": [
       "94626"
      ]
     },
     "execution_count": 2,
     "metadata": {},
     "output_type": "execute_result"
    }
   ],
   "source": [
    "#length of the data\n",
    "len(file)"
   ]
  },
  {
   "cell_type": "code",
   "execution_count": 3,
   "metadata": {},
   "outputs": [
    {
     "data": {
      "text/plain": [
       "'From stephen.marquard@uct.ac.za Sat Jan  5 09:14:16 2008\\nReturn-Path: <postmaster@collab.sakaiproject.org>\\nReceived: from murder (mail.umich.edu [141.211.14.90])\\n\\t by frankenstein.mail.umich.edu (Cyrus v2.3.8) with LMTPA;\\n\\t Sat, 05 Jan 2008 09:14:16 -0500\\nX-Sieve: CMU Sieve 2.3\\nReceived: from murder ([unix socket])\\n\\t by mail.umich.edu (Cyrus v2.2.12) with LMTPA;\\n\\t Sat, 05 Jan 2008 09:14:16 -0500\\nR'"
      ]
     },
     "execution_count": 3,
     "metadata": {},
     "output_type": "execute_result"
    }
   ],
   "source": [
    "#Let's see how the data is read\n",
    "file[:400]"
   ]
  },
  {
   "cell_type": "markdown",
   "metadata": {},
   "source": [
    "**Disadvantage:**\n",
    "\n",
    "Remember that this form of the open function should only be used if the file data will fit comfortably in the main memory of your computer. If the file is too large to fit in main memory, you should write your program to read the file in chunks using a for or while loop."
   ]
  },
  {
   "cell_type": "markdown",
   "metadata": {},
   "source": [
    "### D. Letting the user choose the file name"
   ]
  },
  {
   "cell_type": "code",
   "execution_count": 16,
   "metadata": {},
   "outputs": [
    {
     "name": "stdout",
     "output_type": "stream",
     "text": [
      "Enter the file name : mbox-short.txt\n",
      "94626\n"
     ]
    }
   ],
   "source": [
    "# Homework D and E\n",
    "\n",
    "file_name = input(\"Enter the file name : \")              # taking file name as input from user\n",
    "\n",
    "fhand  = open(file_name)                                 # file is opened in read mode\n",
    "file  = fhand.read()\n",
    "\n",
    "print(len(file))"
   ]
  },
  {
   "cell_type": "markdown",
   "metadata": {},
   "source": [
    "### E. Using try, except and open"
   ]
  },
  {
   "cell_type": "code",
   "execution_count": 17,
   "metadata": {},
   "outputs": [
    {
     "name": "stdout",
     "output_type": "stream",
     "text": [
      "Enter the file name : fdafs\n",
      "File is not present in current directory\n"
     ]
    }
   ],
   "source": [
    "file_name = input(\"Enter the file name : \")              # taking file name as input from user\n",
    "\n",
    "try:\n",
    "    fhand = open(file_name)                              # file is opened in read mode\n",
    "    file = fhand.read()\n",
    "    \n",
    "    print(len(file))\n",
    "\n",
    "except:\n",
    "    print(\"File is not present in current directory\")    # exception will be raised if file is not present in current directory"
   ]
  },
  {
   "cell_type": "code",
   "execution_count": null,
   "metadata": {},
   "outputs": [],
   "source": []
  },
  {
   "cell_type": "markdown",
   "metadata": {},
   "source": [
    "### F. Searching through the file"
   ]
  },
  {
   "cell_type": "markdown",
   "metadata": {},
   "source": [
    "a) For example, if we wanted to read a file and only print out lines which started with the prefix “From:"
   ]
  },
  {
   "cell_type": "code",
   "execution_count": 4,
   "metadata": {},
   "outputs": [
    {
     "name": "stdout",
     "output_type": "stream",
     "text": [
      "From: stephen.marquard@uct.ac.za\n",
      "From: louis@media.berkeley.edu\n",
      "From: zqian@umich.edu\n",
      "From: rjlowe@iupui.edu\n",
      "From: zqian@umich.edu\n",
      "From: rjlowe@iupui.edu\n",
      "From: cwen@iupui.edu\n",
      "From: cwen@iupui.edu\n",
      "From: gsilver@umich.edu\n",
      "From: gsilver@umich.edu\n",
      "From: zqian@umich.edu\n",
      "From: gsilver@umich.edu\n",
      "From: wagnermr@iupui.edu\n",
      "From: zqian@umich.edu\n",
      "From: antranig@caret.cam.ac.uk\n",
      "From: gopal.ramasammycook@gmail.com\n",
      "From: david.horwitz@uct.ac.za\n",
      "From: david.horwitz@uct.ac.za\n",
      "From: david.horwitz@uct.ac.za\n",
      "From: david.horwitz@uct.ac.za\n",
      "From: stephen.marquard@uct.ac.za\n",
      "From: louis@media.berkeley.edu\n",
      "From: louis@media.berkeley.edu\n",
      "From: ray@media.berkeley.edu\n",
      "From: cwen@iupui.edu\n",
      "From: cwen@iupui.edu\n",
      "From: cwen@iupui.edu\n"
     ]
    }
   ],
   "source": [
    "fhand = open(\"datasets/mbox-short.txt\")\n",
    "\n",
    "for line in fhand:\n",
    "    if line.startswith(\"From:\"):\n",
    "        line = line.rstrip()\n",
    "        print(line)    "
   ]
  },
  {
   "cell_type": "markdown",
   "metadata": {
    "collapsed": true
   },
   "source": [
    "b) Can we have the list of email id?"
   ]
  },
  {
   "cell_type": "code",
   "execution_count": 10,
   "metadata": {},
   "outputs": [
    {
     "name": "stdout",
     "output_type": "stream",
     "text": [
      "stephen.marquard@uct.ac.za\n",
      "louis@media.berkeley.edu\n",
      "zqian@umich.edu\n",
      "jlowe@iupui.edu\n",
      "zqian@umich.edu\n",
      "jlowe@iupui.edu\n",
      "cwen@iupui.edu\n",
      "cwen@iupui.edu\n",
      "gsilver@umich.edu\n",
      "gsilver@umich.edu\n",
      "zqian@umich.edu\n",
      "gsilver@umich.edu\n",
      "wagnermr@iupui.edu\n",
      "zqian@umich.edu\n",
      "antranig@caret.cam.ac.uk\n",
      "gopal.ramasammycook@gmail.com\n",
      "david.horwitz@uct.ac.za\n",
      "david.horwitz@uct.ac.za\n",
      "david.horwitz@uct.ac.za\n",
      "david.horwitz@uct.ac.za\n",
      "stephen.marquard@uct.ac.za\n",
      "louis@media.berkeley.edu\n",
      "louis@media.berkeley.edu\n",
      "ay@media.berkeley.edu\n",
      "cwen@iupui.edu\n",
      "cwen@iupui.edu\n",
      "cwen@iupui.edu\n"
     ]
    }
   ],
   "source": [
    "fhand = open(\"datasets/mbox-short.txt\")\n",
    "\n",
    "for line in fhand:\n",
    "    if line.startswith(\"From:\"):\n",
    "        #line = line.lstrip(\"From: \")\n",
    "        line = line.rstrip()\n",
    "        #print(line[6 :])\n",
    "        email = line[line.find(\" \")+1 :]\n",
    "        print(line)"
   ]
  },
  {
   "cell_type": "code",
   "execution_count": null,
   "metadata": {},
   "outputs": [],
   "source": []
  },
  {
   "cell_type": "markdown",
   "metadata": {},
   "source": [
    "c) Extract lines which contain the string “@uct.ac.za” (i.e., they come from the University of Cape Town in South Africa):"
   ]
  },
  {
   "cell_type": "code",
   "execution_count": 12,
   "metadata": {},
   "outputs": [
    {
     "name": "stdout",
     "output_type": "stream",
     "text": [
      "From stephen.marquard@uct.ac.za Sat Jan  5 09:14:16 2008\n",
      "X-Authentication-Warning: nakamura.uits.iupui.edu: apache set sender to stephen.marquard@uct.ac.za using -f\n",
      "From: stephen.marquard@uct.ac.za\n",
      "Author: stephen.marquard@uct.ac.za\n",
      "From david.horwitz@uct.ac.za Fri Jan  4 07:02:32 2008\n",
      "X-Authentication-Warning: nakamura.uits.iupui.edu: apache set sender to david.horwitz@uct.ac.za using -f\n",
      "From: david.horwitz@uct.ac.za\n",
      "Author: david.horwitz@uct.ac.za\n",
      "r39753 | david.horwitz@uct.ac.za | 2008-01-04 13:05:51 +0200 (Fri, 04 Jan 2008) | 1 line\n",
      "From david.horwitz@uct.ac.za Fri Jan  4 06:08:27 2008\n",
      "X-Authentication-Warning: nakamura.uits.iupui.edu: apache set sender to david.horwitz@uct.ac.za using -f\n",
      "From: david.horwitz@uct.ac.za\n",
      "Author: david.horwitz@uct.ac.za\n",
      "From david.horwitz@uct.ac.za Fri Jan  4 04:49:08 2008\n",
      "X-Authentication-Warning: nakamura.uits.iupui.edu: apache set sender to david.horwitz@uct.ac.za using -f\n",
      "From: david.horwitz@uct.ac.za\n",
      "Author: david.horwitz@uct.ac.za\n",
      "From david.horwitz@uct.ac.za Fri Jan  4 04:33:44 2008\n",
      "X-Authentication-Warning: nakamura.uits.iupui.edu: apache set sender to david.horwitz@uct.ac.za using -f\n",
      "From: david.horwitz@uct.ac.za\n",
      "Author: david.horwitz@uct.ac.za\n",
      "From stephen.marquard@uct.ac.za Fri Jan  4 04:07:34 2008\n",
      "X-Authentication-Warning: nakamura.uits.iupui.edu: apache set sender to stephen.marquard@uct.ac.za using -f\n",
      "From: stephen.marquard@uct.ac.za\n",
      "Author: stephen.marquard@uct.ac.za\n"
     ]
    }
   ],
   "source": [
    "fhand = open(\"datasets/mbox-short.txt\")\n",
    "\n",
    "string = '@uct.ac.za'\n",
    "\n",
    "for line in fhand:\n",
    "    if string in line:                  # checks if the given string is there in a line\n",
    "        line = line.rstrip()            # removes extra spaces and \\n from end of line\n",
    "        print(line)"
   ]
  },
  {
   "cell_type": "code",
   "execution_count": null,
   "metadata": {},
   "outputs": [],
   "source": []
  },
  {
   "cell_type": "markdown",
   "metadata": {},
   "source": [
    "d) How many emails were received from University of Cape Town"
   ]
  },
  {
   "cell_type": "code",
   "execution_count": 14,
   "metadata": {},
   "outputs": [
    {
     "name": "stdout",
     "output_type": "stream",
     "text": [
      "6\n"
     ]
    }
   ],
   "source": [
    "fhand = open(\"datasets/mbox-short.txt\")\n",
    "\n",
    "string = '@uct.ac.za'\n",
    "count = 0\n",
    "\n",
    "for line in fhand:\n",
    "    if line.startswith(\"From:\"):\n",
    "        if string in line:               # checks if the given string is there in a line\n",
    "            count += 1\n",
    "\n",
    "print(count)    "
   ]
  },
  {
   "cell_type": "code",
   "execution_count": null,
   "metadata": {},
   "outputs": [],
   "source": []
  },
  {
   "cell_type": "code",
   "execution_count": null,
   "metadata": {},
   "outputs": [],
   "source": [
    "# read mbox.txt add in new file all id where email from uct.ac.za"
   ]
  },
  {
   "cell_type": "code",
   "execution_count": 2,
   "metadata": {},
   "outputs": [
    {
     "name": "stdout",
     "output_type": "stream",
     "text": [
      "stephen.marquard@uct.ac.za\n",
      "stephen.marquard@uct.ac.za\n",
      "david.horwitz@uct.ac.za\n",
      "david.horwitz@uct.ac.za\n",
      "david.horwitz@uct.ac.za\n",
      "david.horwitz@uct.ac.za\n",
      "\n"
     ]
    }
   ],
   "source": [
    "try:\n",
    "    fhand = open(\"datasets/mbox-short.txt\")                          # file 'mbox-short.txt' is opened in read mode\n",
    "    fwrite = open(\"datasets/output-email.txt\", \"w\")                  # file 'output-email.txt' is created if not exist and opened in write mode\n",
    "\n",
    "    string = '@uct.ac.za'\n",
    "\n",
    "    for line in fhand:\n",
    "        if line.startswith(\"From:\"):\n",
    "            if string in line:                              # checks if the given string is there in a line\n",
    "                email = line[line.find(\" \")+1 :]            # it will fetch all the email-id's having string\n",
    "                fwrite = open(\"datasets/output-email.txt\", \"a\")      # file 'output-email.txt' is opened in append mode, so that lines will be appended not overwrite\n",
    "                fwrite.write(email)                         # it will append the text in 'output-email.txt' file\n",
    "\n",
    "    fread = open(\"datasets/output-email.txt\")                        # file 'output-email.txt' is opened in read mode\n",
    "    print(fread.read())                                     # print the text present in 'output-email.txt' file\n",
    "    \n",
    "except:\n",
    "    print(\"File is not present\")"
   ]
  }
 ],
 "metadata": {
  "kernelspec": {
   "display_name": "Python 3",
   "language": "python",
   "name": "python3"
  },
  "language_info": {
   "codemirror_mode": {
    "name": "ipython",
    "version": 3
   },
   "file_extension": ".py",
   "mimetype": "text/x-python",
   "name": "python",
   "nbconvert_exporter": "python",
   "pygments_lexer": "ipython3",
   "version": "3.8.5"
  }
 },
 "nbformat": 4,
 "nbformat_minor": 2
}
