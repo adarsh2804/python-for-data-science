{
 "cells": [
  {
   "cell_type": "markdown",
   "metadata": {
    "collapsed": true
   },
   "source": [
    "### A. List is a sequence of values"
   ]
  },
  {
   "cell_type": "markdown",
   "metadata": {},
   "source": [
    "Like a string, a list is a sequence of values. In a string, the values are characters; in a list, they can be any type. The values in list are called elements or sometimes items."
   ]
  },
  {
   "cell_type": "markdown",
   "metadata": {},
   "source": [
    "### B. List Examples"
   ]
  },
  {
   "cell_type": "code",
   "execution_count": null,
   "metadata": {},
   "outputs": [],
   "source": [
    "[1,3,5,7,9]"
   ]
  },
  {
   "cell_type": "code",
   "execution_count": null,
   "metadata": {},
   "outputs": [],
   "source": [
    "['apple', 'ball', 'cat', 'doll']"
   ]
  },
  {
   "cell_type": "code",
   "execution_count": null,
   "metadata": {},
   "outputs": [],
   "source": [
    "[1, 'one']"
   ]
  },
  {
   "cell_type": "markdown",
   "metadata": {},
   "source": [
    "### C. Lists are Mutable "
   ]
  },
  {
   "cell_type": "code",
   "execution_count": null,
   "metadata": {},
   "outputs": [],
   "source": [
    "words = ['apple', 'ball', 'cat', 'doll']\n",
    "words[1]"
   ]
  },
  {
   "cell_type": "code",
   "execution_count": null,
   "metadata": {},
   "outputs": [],
   "source": [
    "words[1] = 'balloon'\n",
    "words"
   ]
  },
  {
   "cell_type": "markdown",
   "metadata": {},
   "source": [
    "### D. List Operations"
   ]
  },
  {
   "cell_type": "code",
   "execution_count": null,
   "metadata": {},
   "outputs": [],
   "source": [
    "a = [1,2,3]\n",
    "b = [4,5,6]"
   ]
  },
  {
   "cell_type": "code",
   "execution_count": null,
   "metadata": {},
   "outputs": [],
   "source": [
    "a+b"
   ]
  },
  {
   "cell_type": "code",
   "execution_count": null,
   "metadata": {},
   "outputs": [],
   "source": [
    "a*3"
   ]
  },
  {
   "cell_type": "markdown",
   "metadata": {},
   "source": [
    "### E. Slicing List"
   ]
  },
  {
   "cell_type": "code",
   "execution_count": null,
   "metadata": {},
   "outputs": [],
   "source": [
    "words = ['apple', 'ball', 'cat', 'dog', 'elephant', 'fish', 'giraffe']\n"
   ]
  },
  {
   "cell_type": "code",
   "execution_count": null,
   "metadata": {},
   "outputs": [],
   "source": [
    "words[1:4]"
   ]
  },
  {
   "cell_type": "code",
   "execution_count": null,
   "metadata": {},
   "outputs": [],
   "source": [
    "words[-2]"
   ]
  },
  {
   "cell_type": "code",
   "execution_count": null,
   "metadata": {},
   "outputs": [],
   "source": [
    "words[-2 :]"
   ]
  },
  {
   "cell_type": "code",
   "execution_count": null,
   "metadata": {},
   "outputs": [],
   "source": [
    "words[: -2]"
   ]
  },
  {
   "cell_type": "code",
   "execution_count": null,
   "metadata": {},
   "outputs": [],
   "source": [
    "words[0:5:2]"
   ]
  },
  {
   "cell_type": "code",
   "execution_count": null,
   "metadata": {},
   "outputs": [],
   "source": [
    "words[5:1:-1]"
   ]
  },
  {
   "cell_type": "code",
   "execution_count": null,
   "metadata": {},
   "outputs": [],
   "source": [
    "words[::2]"
   ]
  },
  {
   "cell_type": "code",
   "execution_count": null,
   "metadata": {},
   "outputs": [],
   "source": [
    "words[::-3]"
   ]
  },
  {
   "cell_type": "markdown",
   "metadata": {},
   "source": [
    "### F. List and Function"
   ]
  },
  {
   "cell_type": "code",
   "execution_count": null,
   "metadata": {},
   "outputs": [],
   "source": [
    "len(words)"
   ]
  },
  {
   "cell_type": "code",
   "execution_count": null,
   "metadata": {},
   "outputs": [],
   "source": [
    "max(words)"
   ]
  },
  {
   "cell_type": "code",
   "execution_count": null,
   "metadata": {},
   "outputs": [],
   "source": [
    "min(words)"
   ]
  },
  {
   "cell_type": "code",
   "execution_count": null,
   "metadata": {},
   "outputs": [],
   "source": [
    "x = [1, 2, 3]"
   ]
  },
  {
   "cell_type": "code",
   "execution_count": null,
   "metadata": {},
   "outputs": [],
   "source": [
    "sum(x)"
   ]
  },
  {
   "cell_type": "code",
   "execution_count": null,
   "metadata": {},
   "outputs": [],
   "source": [
    "sum(x)/len(x)"
   ]
  },
  {
   "cell_type": "code",
   "execution_count": null,
   "metadata": {},
   "outputs": [],
   "source": [
    "max(x)"
   ]
  },
  {
   "cell_type": "markdown",
   "metadata": {},
   "source": [
    "### G. List Methods"
   ]
  },
  {
   "cell_type": "code",
   "execution_count": null,
   "metadata": {},
   "outputs": [],
   "source": [
    "dir(words)"
   ]
  },
  {
   "cell_type": "code",
   "execution_count": null,
   "metadata": {},
   "outputs": [],
   "source": [
    "words"
   ]
  },
  {
   "cell_type": "code",
   "execution_count": null,
   "metadata": {},
   "outputs": [],
   "source": [
    "words.append('hat')                # adding element at the end of the list"
   ]
  },
  {
   "cell_type": "code",
   "execution_count": null,
   "metadata": {},
   "outputs": [],
   "source": [
    "words.pop(4)                       # removes and returns the element of list at specified index"
   ]
  },
  {
   "cell_type": "code",
   "execution_count": null,
   "metadata": {},
   "outputs": [],
   "source": [
    "# help(words.append)\n",
    "# help(words.clear)\n",
    "# help(words.pop)"
   ]
  },
  {
   "cell_type": "code",
   "execution_count": null,
   "metadata": {},
   "outputs": [],
   "source": [
    "words.insert(3, 'hat')             # insert element at the specified index in the list\n",
    "words"
   ]
  },
  {
   "cell_type": "code",
   "execution_count": null,
   "metadata": {},
   "outputs": [],
   "source": [
    "words.remove('hat')                # removes the first occurence of the element in the list\n",
    "words"
   ]
  },
  {
   "cell_type": "markdown",
   "metadata": {},
   "source": [
    "### H. List and Strings"
   ]
  },
  {
   "cell_type": "code",
   "execution_count": null,
   "metadata": {},
   "outputs": [],
   "source": [
    "s = 'string'\n",
    "t = list(s)   #Converting a string to a list\n",
    "print(t)"
   ]
  },
  {
   "cell_type": "code",
   "execution_count": 11,
   "metadata": {},
   "outputs": [
    {
     "data": {
      "text/plain": [
       "['I', 'Love', 'Python']"
      ]
     },
     "execution_count": 11,
     "metadata": {},
     "output_type": "execute_result"
    }
   ],
   "source": [
    "mystr = 'I Love Python'\n",
    "lis = mystr.split()        # splitting words into string and storing in list(default delimiter is space)\n",
    "lis"
   ]
  },
  {
   "cell_type": "code",
   "execution_count": null,
   "metadata": {},
   "outputs": [],
   "source": [
    "mystr = 'I-Love-Python'\n",
    "lis = mystr.split('-')     # delimiter is '-'\n",
    "lis"
   ]
  },
  {
   "cell_type": "code",
   "execution_count": null,
   "metadata": {},
   "outputs": [],
   "source": [
    "\" \".join(lis)              # joining elements of list into a string. This is a string method"
   ]
  },
  {
   "cell_type": "code",
   "execution_count": null,
   "metadata": {},
   "outputs": [],
   "source": [
    "\"Praxis\".join(lis)"
   ]
  },
  {
   "cell_type": "markdown",
   "metadata": {},
   "source": [
    "### I. Exercise"
   ]
  },
  {
   "cell_type": "markdown",
   "metadata": {},
   "source": [
    "[A] Suppose that you are creating a software to track transactions. First this software will prompt for the number of unique items purchased following which it will prompt for the items purchased by the customers and finally return the list of items purchased. Once the list is recorded for one customer it will ask if you want to continue.\n",
    "\n",
    "    Enter the number of unique items purchased: 3\n",
    "    Enter item no. 1 apple\n",
    "    Enter item no. 2 juice\n",
    "    Enter item no. 3 butter\n",
    "\n",
    "    Transaction details:\n",
    "    ['apple', 'juice', 'butter']\n",
    "\n",
    "    Do you want to continue: yes\n",
    "    Enter the number of unique items purchased: 2\n",
    "    Enter item no. 1 bread\n",
    "    Enter item no. 2 jam\n",
    "\n",
    "    Transaction details:\n",
    "    ['bread', 'jam']\n",
    "\n",
    "    Do you want to continue: no"
   ]
  },
  {
   "cell_type": "code",
   "execution_count": null,
   "metadata": {},
   "outputs": [],
   "source": [
    "transactions = []\n",
    "\n",
    "while True:\n",
    "    \n",
    "    nitems = int(input(\"Enter the number of items : \"))\n",
    "\n",
    "    item_list = []\n",
    "\n",
    "    for i in range(0, nitems):\n",
    "        item = input(\"Enter item %d : \" %(i+1))\n",
    "        item_list.append(item)\n",
    "        \n",
    "    print('\\n')\n",
    "    print(\"The items purchased are :\")\n",
    "    print(item_list)\n",
    "    \n",
    "    transactions.append(item_list)\n",
    "    \n",
    "    print(\"\\n\")\n",
    "    response = input(\"Would you like to continue? (y/n): \").lower()\n",
    "    \n",
    "    if response == 'n':\n",
    "        break"
   ]
  },
  {
   "cell_type": "code",
   "execution_count": null,
   "metadata": {},
   "outputs": [],
   "source": [
    "transactions"
   ]
  },
  {
   "cell_type": "markdown",
   "metadata": {},
   "source": [
    "[B] The previous solution (as it is evident) was a very crude solution. Someone in the billing counter has no idea about the number of unique products purchased by a customer. Therefore the program should be designed in such a way that will enable the person in the billing counter to start recording the items once a customer arrives at the billing desk and keep recording the items until it signals done. Once the person is done recording the items of one customer it will ask if he/she need to record one more transaction. If yes it continues...\n",
    "\n",
    "    Enter item no. 1 : apple\n",
    "    Enter item no. 2 : juice\n",
    "    Enter item no. 3 : butter\n",
    "    Enter item no. 4 : done\n",
    "    \n",
    "    Transaction for Customer 1\n",
    "    ['apple', 'juice', 'butter']\n",
    "    \n",
    "    \n",
    "    Next customer? (yes/no): yes\n",
    "    \n",
    "    Enter item no. 1 : bread\n",
    "    Enter item no. 2 : jam\n",
    "    Enter item no. 3 : done\n",
    "    \n",
    "    Transaction for Customer 1\n",
    "    ['bread', 'jam']\n",
    "    \n",
    "    \n",
    "    Next customer? (yes/no): no"
   ]
  },
  {
   "cell_type": "code",
   "execution_count": null,
   "metadata": {},
   "outputs": [],
   "source": [
    "i = 1\n",
    "transactions = []\n",
    "\n",
    "while True:\n",
    "    \n",
    "    item_list = []\n",
    "    while True:\n",
    "        \n",
    "        item = input(\"Enter item no. %d : \" %i)\n",
    "        \n",
    "        if item == 'done':\n",
    "            print(\"\\n\")\n",
    "            print(\"Transaction for Customer 1\")\n",
    "            print(item_list)\n",
    "            transactions.append(item_list)\n",
    "            break\n",
    "        \n",
    "        else:\n",
    "            item_list.append(item)\n",
    "            i += 1\n",
    "    \n",
    "    print(\"\\n\")\n",
    "    response = input(\"Next Customer? (yes/no): \").lower()\n",
    "    \n",
    "    if response == 'no':\n",
    "        break"
   ]
  },
  {
   "cell_type": "code",
   "execution_count": null,
   "metadata": {},
   "outputs": [],
   "source": [
    "transactions"
   ]
  },
  {
   "cell_type": "markdown",
   "metadata": {},
   "source": [
    "[C] Modify the above program such that for every item the software prompts  for the quantity purchases and its price. Finally for each customers, along with the list of items purchases it also gives the bill amount.\n",
    "\n",
    "    Item 1 : apple\n",
    "    Quantity for item 1: 0.5\n",
    "    Price for item 1: 109\n",
    "    Item 2 : juice\n",
    "    Quantity for item 2: 1\n",
    "    Price for item 2: 99\n",
    "    Item 3 : butter\n",
    "    Quantity for item 3: 2\n",
    "    Price for item 3: 45\n",
    "    Item 4 : done\n",
    "    \n",
    "    Transaction for Customer 1\n",
    "    ['apple', 'juice', 'butter']\n",
    "    Total:  243.5\n",
    "    \n",
    "    \n",
    "    Next customer? (yes/no): yes\n",
    "    \n",
    "    Item 1 : bread\n",
    "    Quantity for item 1: 1\n",
    "    Price for item 1: 31\n",
    "    Item 2 : Jam\n",
    "    Quantity for item 2: 1\n",
    "    Price for item 2: 89\n",
    "    Item 3 : done\n",
    "    \n",
    "    Transaction for Customer 1\n",
    "    ['bread', 'Jam']\n",
    "    Total:  120.0\n",
    "    \n",
    "    \n",
    "    Next customer? (yes/no): no"
   ]
  },
  {
   "cell_type": "code",
   "execution_count": 2,
   "metadata": {},
   "outputs": [
    {
     "name": "stdout",
     "output_type": "stream",
     "text": [
      "Item 1 : a\n",
      "Quantity for item 1: 1\n",
      "Price for item 1: 4\n",
      "Item 2 : b\n",
      "Quantity for item 2: 5\n",
      "Price for item 2: 3\n",
      "Item 3 : c\n",
      "Quantity for item 3: 7\n",
      "Price for item 3: 5\n",
      "Item 4 : done\n",
      "\n",
      "\n",
      "Transaction for Customer 1\n",
      "['a', 'b', 'c']\n",
      "Total:  54.0\n",
      "\n",
      "\n",
      "Next customer? (yes/no): yes\n",
      "Item 1 : f\n",
      "Quantity for item 1: 3\n",
      "Price for item 1: 5\n",
      "Item 2 : d\n",
      "Quantity for item 2: 3\n",
      "Price for item 2: 4\n",
      "Item 3 : done\n",
      "\n",
      "\n",
      "Transaction for Customer 1\n",
      "['a', 'b', 'c', 'f', 'd']\n",
      "Total:  27.0\n",
      "\n",
      "\n",
      "Next customer? (yes/no): no\n"
     ]
    }
   ],
   "source": [
    "item_list = []\n",
    "\n",
    "while True:\n",
    "    count = 1\n",
    "    total = 0\n",
    "    while True:\n",
    "        item = input(\"Item %d : \" %count)\n",
    "\n",
    "        if item == 'done':\n",
    "            print(\"\\n\")\n",
    "            print(\"Transaction for Customer 1\")\n",
    "            print(item_list)\n",
    "            print(\"Total: \", total)\n",
    "            break\n",
    "        else:\n",
    "            qty = int(input(\"Quantity for item %d: \" %count))\n",
    "            price = float(input(\"Price for item %d: \" %count))\n",
    "            total = total + (qty * price)\n",
    "            item_list.append(item)\n",
    "            count += 1\n",
    "\n",
    "    print(\"\\n\")\n",
    "    choice = input(\"Next customer? (yes/no): \").lower()\n",
    "\n",
    "    if choice == 'yes':\n",
    "        continue\n",
    "    else:\n",
    "        break"
   ]
  },
  {
   "cell_type": "markdown",
   "metadata": {},
   "source": [
    "[D] I am sure that almost all of you have searched coupon codes to get discounts from Food Panda or Swiggy. Have you noticed that once you have applied a code you cannot apply it again? But the website shows you all. Come on , let us write one such program.\n",
    "\n",
    "    Following are the available list of coupons for Food Panda\n",
    "    ['FP040', 'FP111', 'FPHBD05', 'FP9989', 'HappyMeal']\n",
    "\n",
    "\n",
    "    Type the one you want to apply: FP9989\n",
    "    Congratulation! You have successfully applied this coupon\n",
    "\n",
    "    would you like to use another coupon?yes\n",
    "    Following are the available list of coupons for Food Panda\n",
    "    ['FP040', 'FP111', 'FPHBD05', 'FP9989', 'HappyMeal']\n",
    "\n",
    "\n",
    "    Type the one you want to apply: FP9989\n",
    "    Sorry! You have already applied this coupon\n",
    "\n",
    "    would you like to use another coupon? no\n",
    "\n"
   ]
  },
  {
   "cell_type": "code",
   "execution_count": 9,
   "metadata": {},
   "outputs": [
    {
     "name": "stdout",
     "output_type": "stream",
     "text": [
      "Following are the available list of coupons for Food Panda\n",
      "['FP040', 'FP111', 'FPHBD05', 'FP9989', 'HappyMeal']\n",
      "Type the one you want to apply: FP111\n",
      "Congratulation! You have successfully applied this coupon\n",
      "would you like to use another coupon?yes\n",
      "Following are the available list of coupons for Food Panda\n",
      "['FP040', 'FP111', 'FPHBD05', 'FP9989', 'HappyMeal']\n",
      "Type the one you want to apply: FP111\n",
      "Sorry! You have already applied this coupon\n",
      "would you like to use another coupon?yes\n",
      "Following are the available list of coupons for Food Panda\n",
      "['FP040', 'FP111', 'FPHBD05', 'FP9989', 'HappyMeal']\n",
      "Type the one you want to apply: FP040\n",
      "Congratulation! You have successfully applied this coupon\n",
      "would you like to use another coupon?yes\n",
      "Following are the available list of coupons for Food Panda\n",
      "['FP040', 'FP111', 'FPHBD05', 'FP9989', 'HappyMeal']\n",
      "Type the one you want to apply: FP111\n",
      "Sorry! You have already applied this coupon\n",
      "would you like to use another coupon?yes\n",
      "Following are the available list of coupons for Food Panda\n",
      "['FP040', 'FP111', 'FPHBD05', 'FP9989', 'HappyMeal']\n",
      "Type the one you want to apply: FP040\n",
      "Sorry! You have already applied this coupon\n",
      "would you like to use another coupon?no\n"
     ]
    }
   ],
   "source": [
    "coupon_list = ['FP040', 'FP111', 'FPHBD05', 'FP9989', 'HappyMeal']\n",
    "applied_coupon = []             # holds record of applied coupons\n",
    "\n",
    "while True:\n",
    "    flag = 0\n",
    "    print(\"Following are the available list of coupons for Food Panda\")\n",
    "    print(coupon_list)\n",
    "    coupon = input(\"Type the one you want to apply: \")\n",
    "    \n",
    "    for c in applied_coupon:          \n",
    "        if c == coupon:         # checks if a coupon is already used\n",
    "            print(\"Sorry! You have already applied this coupon\")\n",
    "            flag = 1\n",
    "            break\n",
    "    \n",
    "    if flag != 1:               # if coupon is not found in applied coupon list\n",
    "        for i in coupon_list:\n",
    "            if i == coupon:\n",
    "                print(\"Congratulation! You have successfully applied this coupon\")\n",
    "                applied_coupon.append(coupon)       # coupon is added in apllied coupon list\n",
    "            \n",
    "    choice = input(\"would you like to use another coupon?\").lower()\n",
    "    \n",
    "    if choice == 'yes':\n",
    "        continue\n",
    "    else:\n",
    "        break\n",
    "                "
   ]
  },
  {
   "cell_type": "code",
   "execution_count": 10,
   "metadata": {},
   "outputs": [
    {
     "data": {
      "text/plain": [
       "['FP111', 'FP040']"
      ]
     },
     "execution_count": 10,
     "metadata": {},
     "output_type": "execute_result"
    }
   ],
   "source": [
    "applied_coupon"
   ]
  },
  {
   "cell_type": "markdown",
   "metadata": {},
   "source": [
    "[E] In the files exercises, we had found out the list of email ids from the mbox file. Can we extract the list of unique email ids?\n",
    "\n",
    "    stephen.marquard@uct.ac.za\n",
    "    louis@media.berkeley.edu\n",
    "    zqian@umich.edu\n",
    "    rjlowe@iupui.edu\n",
    "    cwen@iupui.edu\n",
    "    gsilver@umich.edu\n",
    "    wagnermr@iupui.edu\n",
    "    antranig@caret.cam.ac.uk\n",
    "    gopal.ramasammycook@gmail.com\n",
    "    david.horwitz@uct.ac.za\n",
    "    ray@media.berkeley.edu\n",
    "\n",
    "    Total unique contacts = 11"
   ]
  },
  {
   "cell_type": "code",
   "execution_count": null,
   "metadata": {},
   "outputs": [],
   "source": [
    "email_list = []\n",
    "final_list = []\n",
    "count = 0\n",
    "fhand = open(\"mbox-short.txt\")\n",
    "\n",
    "for line in fhand:\n",
    "    if line.startswith(\"From:\"):\n",
    "        line = line.rstrip()\n",
    "        email = line[line.find(\" \")+1 :]\n",
    "        email_list.append(email)\n",
    "# print(email_list)\n",
    "\n",
    "for i in email_list:\n",
    "    if i not in final_list:\n",
    "        final_list.append(i)\n",
    "\n",
    "for item in final_list:\n",
    "    print(item)\n",
    "    count += 1\n",
    "\n",
    "print(\"\\n\")\n",
    "print(\"Total unique contact = \", count)"
   ]
  }
 ],
 "metadata": {
  "kernelspec": {
   "display_name": "Python 3",
   "language": "python",
   "name": "python3"
  },
  "language_info": {
   "codemirror_mode": {
    "name": "ipython",
    "version": 3
   },
   "file_extension": ".py",
   "mimetype": "text/x-python",
   "name": "python",
   "nbconvert_exporter": "python",
   "pygments_lexer": "ipython3",
   "version": "3.8.5"
  }
 },
 "nbformat": 4,
 "nbformat_minor": 2
}
